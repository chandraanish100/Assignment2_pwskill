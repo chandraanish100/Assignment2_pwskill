{
 "cells": [
  {
   "cell_type": "code",
   "execution_count": 42,
   "id": "d3842f27-a503-4a75-b5d7-78e5409d6566",
   "metadata": {},
   "outputs": [
    {
     "name": "stdout",
     "output_type": "stream",
     "text": [
      "hsinA\n"
     ]
    }
   ],
   "source": [
    "x=\"Anish\"\n",
    "y=x[-1::-1]\n",
    "print(y)"
   ]
  },
  {
   "cell_type": "code",
   "execution_count": 2,
   "id": "cffbb71e-b18a-45cc-a84c-6aec479b9593",
   "metadata": {},
   "outputs": [
    {
     "name": "stdin",
     "output_type": "stream",
     "text": [
      "Enter A String:  Mom\n"
     ]
    },
    {
     "name": "stdout",
     "output_type": "stream",
     "text": [
      "The String is palindrome\n"
     ]
    }
   ],
   "source": [
    "x=input(\"Enter A String: \")\n",
    "y=x.lower()\n",
    "s=y[0:]\n",
    "e=y[-1::-1]\n",
    "if s==e:\n",
    "    print(\"The String is palindrome\")\n",
    "else:\n",
    "    print(\"The String is not palindrome\")"
   ]
  },
  {
   "cell_type": "code",
   "execution_count": 3,
   "id": "b3b22454-9903-4c06-87b7-d4b15572a11f",
   "metadata": {},
   "outputs": [
    {
     "name": "stdout",
     "output_type": "stream",
     "text": [
      "MONKEY\n"
     ]
    }
   ],
   "source": [
    "x=\"monkey\"\n",
    "y=x.upper()\n",
    "print(y)"
   ]
  },
  {
   "cell_type": "code",
   "execution_count": 5,
   "id": "3be78586-52f2-423c-8774-b0333305cee4",
   "metadata": {},
   "outputs": [
    {
     "name": "stdout",
     "output_type": "stream",
     "text": [
      "apple\n"
     ]
    }
   ],
   "source": [
    "x=\"APPLE\"\n",
    "y=x.lower()\n",
    "print(y)"
   ]
  },
  {
   "cell_type": "code",
   "execution_count": 12,
   "id": "244fb48e-5f38-483a-aa87-86ed73dcac63",
   "metadata": {},
   "outputs": [
    {
     "name": "stdin",
     "output_type": "stream",
     "text": [
      "Enter A String:  Anish\n"
     ]
    },
    {
     "name": "stdout",
     "output_type": "stream",
     "text": [
      "2\n",
      "3\n"
     ]
    }
   ],
   "source": [
    "x= input(\"Enter A String: \")\n",
    "y=x.lower()\n",
    "vowels=0\n",
    "consonants=0\n",
    "for i in y :\n",
    "    if(i =='a' or i =='e' or i =='i' or i =='o' or i =='u'):\n",
    "        vowels=vowels+1\n",
    "    else:\n",
    "        consonants=consonants+1\n",
    "        \n",
    "print(vowels)\n",
    "print(consonants)\n"
   ]
  },
  {
   "cell_type": "code",
   "execution_count": 11,
   "id": "31dc1cfd-aed2-4160-9748-b1646389012b",
   "metadata": {},
   "outputs": [
    {
     "data": {
      "text/plain": [
       "'Srinjoy'"
      ]
     },
     "execution_count": 11,
     "metadata": {},
     "output_type": "execute_result"
    }
   ],
   "source": [
    "S=\"      Srinjoy         \"\n",
    "S.strip()\n"
   ]
  },
  {
   "cell_type": "code",
   "execution_count": 16,
   "id": "38600a56-c930-44cb-89d0-ab4c0c817e0b",
   "metadata": {},
   "outputs": [
    {
     "name": "stdin",
     "output_type": "stream",
     "text": [
      "Enter a string:  anish\n"
     ]
    },
    {
     "name": "stdout",
     "output_type": "stream",
     "text": [
      "5\n"
     ]
    }
   ],
   "source": [
    "S=input(\"Enter a string: \")\n",
    "y=S.lower()\n",
    "count=0\n",
    "for i in y:\n",
    "    count=count+1\n",
    "print(count)"
   ]
  },
  {
   "cell_type": "code",
   "execution_count": 22,
   "id": "6c5eaefa-314d-41a3-9a40-4fc4717fbb67",
   "metadata": {},
   "outputs": [
    {
     "name": "stdin",
     "output_type": "stream",
     "text": [
      "Enter A String:  My Name Is Anish Chandra.\n"
     ]
    },
    {
     "data": {
      "text/plain": [
       "True"
      ]
     },
     "execution_count": 22,
     "metadata": {},
     "output_type": "execute_result"
    }
   ],
   "source": [
    "X= input(\"Enter A String: \")\n",
    "Y=X.lower()\n",
    "\"is\" in Y\n"
   ]
  },
  {
   "cell_type": "code",
   "execution_count": 23,
   "id": "02de7de5-c7da-455a-a14c-5facded535b4",
   "metadata": {},
   "outputs": [
    {
     "name": "stdout",
     "output_type": "stream",
     "text": [
      "My name is Anish Chandra.  I complete B.sc in 2020 In Mathamatis and i complete M.sc in Remote sensing and GIS.\n"
     ]
    }
   ],
   "source": [
    "X =\"My name is Anish Chandra.  I complete B.sc in 2020 In Mathematis and i complete MSC in Remote sensing and GIS.\"\n",
    "Y=X.replace(\"MSC\",\"M.sc\")\n",
    "print(Y)"
   ]
  },
  {
   "cell_type": "code",
   "execution_count": 33,
   "id": "61b6180e-ace3-45ff-a515-ac9c74be304c",
   "metadata": {},
   "outputs": [
    {
     "name": "stdout",
     "output_type": "stream",
     "text": [
      "4\n"
     ]
    }
   ],
   "source": [
    "X =\"My name is Anish Chandra.  I complete B.sc in 2020 In Mathematis and i complete MSC in Remote sensing and GIS.\"\n",
    "Z=X.lower()\n",
    "y=Z.count(\"is\")\n",
    "print(y)"
   ]
  },
  {
   "cell_type": "code",
   "execution_count": 29,
   "id": "05564048-a2b2-4518-8da2-6e951daeeec4",
   "metadata": {},
   "outputs": [
    {
     "name": "stdout",
     "output_type": "stream",
     "text": [
      "8\n"
     ]
    }
   ],
   "source": [
    "X =\"My name is Anish Chandra.  I complete B.sc in 2020 In Mathematis and i complete MSC in Remote sensing and GIS.\"\n",
    "z=X.lower()\n",
    "y=z.find(\"is\",0)\n",
    "print(y)"
   ]
  },
  {
   "cell_type": "code",
   "execution_count": 38,
   "id": "0e4aeafa-dc35-4a17-b6e8-ed231985615b",
   "metadata": {},
   "outputs": [
    {
     "name": "stdout",
     "output_type": "stream",
     "text": [
      "106\n"
     ]
    }
   ],
   "source": [
    "X =\"My name is Anish Chandra. I complete B.sc in 2020 In Mathematis and i complete MSC in Remote sensing and GIS.\"\n",
    "z=X.lower()\n",
    "y=z.rfind(\"is\")\n",
    "print(y)"
   ]
  },
  {
   "cell_type": "code",
   "execution_count": 41,
   "id": "ad9116cf-19a0-4a72-a6b2-5a765bd3a724",
   "metadata": {},
   "outputs": [
    {
     "name": "stdout",
     "output_type": "stream",
     "text": [
      "['My', 'name', 'is', 'Anish', 'chandra']\n"
     ]
    }
   ],
   "source": [
    "x=\"My name is Anish chandra\"\n",
    "y=x.split()\n",
    "print(y)"
   ]
  },
  {
   "cell_type": "code",
   "execution_count": 61,
   "id": "04873316-5dcb-47ce-919c-97d4eea5593a",
   "metadata": {},
   "outputs": [
    {
     "name": "stdout",
     "output_type": "stream",
     "text": [
      "['My', 'name', 'is', 'Anish', 'chandra', 'Now i doing job in Map My India', 'Now i doing job in Map My India', 'Now i doing job in Map My India', 'Now i doing job in Map My India', 'Now i doing job in Map My India', 'Now i doing job in Map My India', 'Now i doing job in Map My India', 'Now i doing job in Map My India', 'Now i doing job in Map My India', 'Now i doing job in Map My India', 'Now i doing job in Map My India']\n"
     ]
    }
   ],
   "source": [
    "y.append(\"Now i doing job in Map My India\")\n",
    "print(y)"
   ]
  },
  {
   "cell_type": "code",
   "execution_count": 63,
   "id": "21010ff6-cbea-49bb-b33a-df05ad74151c",
   "metadata": {},
   "outputs": [
    {
     "data": {
      "text/plain": [
       "'My_name_is_Anish_Chandra._I_complete_B.sc_in_2020_In_Mathamatis_and_i_complete_MSC_in_Remote_sensing_and_GIS.'"
      ]
     },
     "execution_count": 63,
     "metadata": {},
     "output_type": "execute_result"
    }
   ],
   "source": [
    "v =\"My name is Anish Chandra. I complete B.sc in 2020 In Mathematis and i complete MSC in Remote sensing and GIS.\"\n",
    "v.replace(\" \",\"_\")\n",
    "\n"
   ]
  },
  {
   "cell_type": "code",
   "execution_count": 73,
   "id": "76c957ba-1a54-4f81-9287-2959ce6b07f8",
   "metadata": {},
   "outputs": [
    {
     "name": "stdout",
     "output_type": "stream",
     "text": [
      "True\n",
      "True\n"
     ]
    }
   ],
   "source": [
    "v =\"My name is Anish Chandra. I complete B.sc in 2020 In Mathematis and i complete MSC in Remote sensing and GIS.\"\n",
    "P=v.startswith(\"My\")\n",
    "Q=v.endswith(\"GIS.\")\n",
    "print(P)\n",
    "print(Q)"
   ]
  },
  {
   "cell_type": "code",
   "execution_count": 74,
   "id": "9d168787-d5ea-4067-8b48-abd4e669c587",
   "metadata": {},
   "outputs": [
    {
     "name": "stdout",
     "output_type": "stream",
     "text": [
      "My Name Is Anish Chandra. I Complete B.Sc In 2020 In Mathamatis And I Complete Msc In Remote Sensing And Gis.\n"
     ]
    }
   ],
   "source": [
    "v =\"My name is Anish Chandra. I complete B.sc in 2020 In Mathematis and i complete MSC in Remote sensing and GIS.\"\n",
    "p=v.title()\n",
    "print(p)"
   ]
  },
  {
   "cell_type": "code",
   "execution_count": null,
   "id": "b75d2479-4eb5-40f5-b831-fb4ec0984241",
   "metadata": {},
   "outputs": [],
   "source": [
    "str = input(\"Enter a String: \")\n",
    "word = str.split()\n",
    "longest_word = max(word, key = len)\n",
    "Number = str.index(longest_word)\n",
    "print(\"Longest word: \",longest_word)\n",
    "print(\"Number of Longest word: \", Number+1)"
   ]
  },
  {
   "cell_type": "code",
   "execution_count": 2,
   "id": "43c1c23d-0862-4b92-86d5-a0c9d84586ee",
   "metadata": {},
   "outputs": [
    {
     "name": "stdin",
     "output_type": "stream",
     "text": [
      "Enter a String:  I am Anish Chandra .\n"
     ]
    },
    {
     "name": "stdout",
     "output_type": "stream",
     "text": [
      "Shortest word:  I\n",
      "Number of Shortest word:  0\n"
     ]
    }
   ],
   "source": [
    "str = input(\"Enter a String: \")\n",
    "word = str.split()\n",
    "Shortest_word = min(word, key = len)\n",
    "Number = str.index(Shortest_word)\n",
    "print(\"Shortest word: \",Shortest_word)\n",
    "print(\"Number of Shortest word: \", Number+1)"
   ]
  },
  {
   "cell_type": "code",
   "execution_count": 8,
   "id": "7b9d6d88-c66e-4cfb-b980-f2b7ba0cc1c0",
   "metadata": {},
   "outputs": [
    {
     "name": "stdout",
     "output_type": "stream",
     "text": [
      "['GIS.', 'and', 'sensing', 'Remote', 'in', 'MSC', 'complete', 'i', 'and', 'Mathamatis', 'In', '2020', 'in', 'B.sc', 'complete', 'I', 'Chandra.', 'Anish', 'is', 'name', 'My']\n"
     ]
    }
   ],
   "source": [
    "x =\"My name is Anish Chandra. I complete B.sc in 2020 In Mathematis and i complete MSC in Remote sensing and GIS.\"\n",
    "y=x.split()\n",
    "z=y[-1::-1]\n",
    "print(z)"
   ]
  },
  {
   "cell_type": "code",
   "execution_count": 13,
   "id": "46f085b9-9460-44e4-ba39-36d8ec4a61d5",
   "metadata": {},
   "outputs": [
    {
     "name": "stdout",
     "output_type": "stream",
     "text": [
      "False\n"
     ]
    }
   ],
   "source": [
    "y = \"anish 12\"\n",
    "\n",
    "x = y.isalnum()\n",
    "\n",
    "print(x)"
   ]
  },
  {
   "cell_type": "code",
   "execution_count": 19,
   "id": "aec50bb3-af47-473c-8c52-d8695ac99e7c",
   "metadata": {},
   "outputs": [
    {
     "name": "stdin",
     "output_type": "stream",
     "text": [
      "Enter A String:  Anish123456chandra\n"
     ]
    },
    {
     "name": "stdout",
     "output_type": "stream",
     "text": [
      " 123456\n"
     ]
    }
   ],
   "source": [
    "x=input(\"Enter A String: \")\n",
    "y=\" \"\n",
    "for z in x:\n",
    "    if z.isdigit():\n",
    "        y+=z\n",
    "print(y)\n",
    "        \n",
    "        "
   ]
  },
  {
   "cell_type": "code",
   "execution_count": 20,
   "id": "37d5ad79-7784-4421-81d6-ed910be56c80",
   "metadata": {},
   "outputs": [
    {
     "name": "stdin",
     "output_type": "stream",
     "text": [
      "Enter A String:  Anish124578 Chandra\n"
     ]
    },
    {
     "name": "stdout",
     "output_type": "stream",
     "text": [
      " AnishChandra\n"
     ]
    }
   ],
   "source": [
    "x=input(\"Enter A String: \")\n",
    "y=\" \"\n",
    "for z in x:\n",
    "    if z.isalpha():\n",
    "        y+=z\n",
    "print(y)\n",
    "        "
   ]
  },
  {
   "cell_type": "code",
   "execution_count": 21,
   "id": "20180579-ff97-4048-a54b-d1775d689f80",
   "metadata": {},
   "outputs": [
    {
     "name": "stdin",
     "output_type": "stream",
     "text": [
      "Enter A String:  AnIsH ChAnDrA\n"
     ]
    },
    {
     "name": "stdout",
     "output_type": "stream",
     "text": [
      "7\n"
     ]
    }
   ],
   "source": [
    "x=input(\"Enter A String: \")\n",
    "y=0\n",
    "for z in x:\n",
    "    if z.isupper():\n",
    "        y=y+1\n",
    "print(y)\n",
    "        "
   ]
  },
  {
   "cell_type": "code",
   "execution_count": 22,
   "id": "98f23a04-069d-4934-8ae3-0c243e8db399",
   "metadata": {},
   "outputs": [
    {
     "name": "stdin",
     "output_type": "stream",
     "text": [
      "Enter A String:  AnIsH ChAnDrA\n"
     ]
    },
    {
     "name": "stdout",
     "output_type": "stream",
     "text": [
      "5\n"
     ]
    }
   ],
   "source": [
    "x=input(\"Enter A String: \")\n",
    "y=0\n",
    "for z in x:\n",
    "    if z.islower():\n",
    "        y=y+1\n",
    "print(y)\n"
   ]
  },
  {
   "cell_type": "code",
   "execution_count": 23,
   "id": "5e586dfe-c7d5-4a38-9041-cde44998124c",
   "metadata": {},
   "outputs": [
    {
     "name": "stdin",
     "output_type": "stream",
     "text": [
      "Enter A String:  AnIsH cHanDra\n"
     ]
    },
    {
     "name": "stdout",
     "output_type": "stream",
     "text": [
      "aNiSh ChANdRA\n"
     ]
    }
   ],
   "source": [
    "x=input(\"Enter A String: \")\n",
    "y=x.swapcase()\n",
    "print(y)"
   ]
  },
  {
   "cell_type": "code",
   "execution_count": 29,
   "id": "90b3dd6d-10c6-4556-80f9-fd3e991a2dfb",
   "metadata": {},
   "outputs": [
    {
     "name": "stdout",
     "output_type": "stream",
     "text": [
      "['my', 'name', 'anish', 'chandra.', 'i', 'complete', 'b.sc', 'in', '2020', 'in', 'mathematis', 'and', 'i', 'complete', 'msc', 'in', 'remote', 'sensing', 'and', 'gis.']\n"
     ]
    }
   ],
   "source": [
    "x =\"My name is Anish Chandra. I complete B.sc in 2020 In Mathematis and i complete MSC in Remote sensing and GIS.\"\n",
    "v=x.lower()\n",
    "y=v.split()\n",
    "z=y.remove(\"is\")\n",
    "print(y)"
   ]
  },
  {
   "cell_type": "code",
   "execution_count": 33,
   "id": "c20922f9-8a51-431e-8820-5ac47336f16b",
   "metadata": {},
   "outputs": [
    {
     "name": "stdout",
     "output_type": "stream",
     "text": [
      "Valid Email id\n"
     ]
    }
   ],
   "source": [
    "x=\"abc@gmail.com\"\n",
    "if x.find(\"@\") or x.find(\".com\"):\n",
    "    print(\"Valid Email id\")\n",
    "else:\n",
    "    print(\"Not A Valid Email Id\")"
   ]
  },
  {
   "cell_type": "code",
   "execution_count": 1,
   "id": "0b5a4350-d3d4-4321-8a99-426a1487036a",
   "metadata": {},
   "outputs": [
    {
     "name": "stdout",
     "output_type": "stream",
     "text": [
      "'Hello Good Morning'\n"
     ]
    }
   ],
   "source": [
    "x=\"Hello     Good       Morning   \"\n",
    "y=\" \".join(x.split())\n",
    "print(repr(y))"
   ]
  },
  {
   "cell_type": "code",
   "execution_count": 38,
   "id": "af1e628a-b215-467b-8eed-4e6477cf6402",
   "metadata": {},
   "outputs": [
    {
     "name": "stdout",
     "output_type": "stream",
     "text": [
      "Count of all characters : {'I': 3, 'A': 2, 'm': 3, 'n': 4, 'i': 3, 's': 3, 'h': 2, 'C': 1, 'a': 3, 'd': 1, 'r': 2, '.': 3, 'c': 3, 'o': 3, 'p': 1, 'l': 1, 'e': 3, 't': 2, 'M': 1, 'G': 1, 'f': 1}\n"
     ]
    }
   ],
   "source": [
    "x= \"IAmAnishChandra.IcompleteM.scInGeoinformatics.\"\n",
    "y={ }\n",
    "for i in x:\n",
    "    if i in y:\n",
    "        y[i] += 1\n",
    "    else:\n",
    "        y[i] = 1\n",
    "print(\"Count of all characters : \" + str(y))     \n",
    "        "
   ]
  },
  {
   "cell_type": "code",
   "execution_count": 4,
   "id": "176f9453-7ffc-4fcf-b060-f7159f783ff9",
   "metadata": {},
   "outputs": [
    {
     "name": "stdout",
     "output_type": "stream",
     "text": [
      "The original string is : My@ name ?is #Anish.! chandra.\n",
      "The new string is : My name is Anish chandra\n"
     ]
    }
   ],
   "source": [
    "x = \"My@ name ?is #Anish.! chandra.\"\n",
    "print(\"The original string is : \" + x)\n",
    "y = '''!()-[]{};:'\"\\,<>./?@#$%^&*_~'''\n",
    "for i in x:\n",
    "    if i in y:\n",
    "        x = x.replace(i, \"\")\n",
    "print(\"The new string is : \" + x)\n",
    "        \n"
   ]
  },
  {
   "cell_type": "code",
   "execution_count": 5,
   "id": "2b5456a2-b1d6-43d0-bb75-6259c84cf53b",
   "metadata": {},
   "outputs": [
    {
     "name": "stdout",
     "output_type": "stream",
     "text": [
      "The initial string:  123456789 ABC12345bfcdsaw\n",
      "The String Contains Only Digit\n",
      "The String Contains Digit and Alphabet\n"
     ]
    }
   ],
   "source": [
    "x=\"123456789\"\n",
    "y=\"ABC12345bfcdsaw\"\n",
    "print(\"The initial string: \", x, y)\n",
    "if x.isdigit():\n",
    "    print(\"The String Contains Only Digit\")\n",
    "else:\n",
    "    print(\"The String Contains Digit and Alphabet\")\n",
    "if y.isdigit():\n",
    "    print(\"The String Contains Only Digit\")\n",
    "else:\n",
    "    print(\"The String Contains Digit and Alphabet\")"
   ]
  },
  {
   "cell_type": "code",
   "execution_count": 7,
   "id": "32346a4e-1622-420e-a298-5390967a6c59",
   "metadata": {},
   "outputs": [
    {
     "name": "stdout",
     "output_type": "stream",
     "text": [
      "The initial string:  abcdfsawejvv ABC12345bfcdsaw\n",
      "The String Contains Only Alphabet\n",
      "The String Contains Digit and Alphabet\n"
     ]
    }
   ],
   "source": [
    "x=\"abcdfsawejvv\"\n",
    "y=\"ABC12345bfcdsaw\"\n",
    "print(\"The initial string: \", x, y)\n",
    "if x.isalpha():\n",
    "    print(\"The String Contains Only Alphabet\")\n",
    "else:\n",
    "    print(\"The String Contains Digit and Alphabet\")\n",
    "if y.isalpha():\n",
    "    print(\"The String Contains Only Alphabet\")\n",
    "else:\n",
    "    print(\"The String Contains Digit and Alphabet\")"
   ]
  },
  {
   "cell_type": "code",
   "execution_count": 8,
   "id": "de84e256-8d5c-40fb-9cf0-e73b806a8ae5",
   "metadata": {},
   "outputs": [
    {
     "name": "stdout",
     "output_type": "stream",
     "text": [
      "['A', 'n', 'i', 's', 'h', 'C', 'h', 'a', 'n', 'd', 'r', 'a']\n"
     ]
    }
   ],
   "source": [
    "string = \"AnishChandra\"\n",
    "letter = [x for x in string]\n",
    "print(letter)"
   ]
  },
  {
   "cell_type": "code",
   "execution_count": 9,
   "id": "e4bf5f72-9afe-4405-bfaa-0d1722f151e5",
   "metadata": {},
   "outputs": [
    {
     "name": "stdout",
     "output_type": "stream",
     "text": [
      "['A', 'n', 'i', 's', 'h', 'C', 'h', 'a', 'n', 'd', 'r', 'a']\n"
     ]
    }
   ],
   "source": [
    "string = 'AnishChandra'\n",
    "lst = []\n",
    " \n",
    "for letter in string:\n",
    "    lst.append(letter)\n",
    " \n",
    "print(lst)"
   ]
  },
  {
   "cell_type": "code",
   "execution_count": 10,
   "id": "9bc4cb34-ab1e-4f7f-a7e7-9151d467cd63",
   "metadata": {},
   "outputs": [
    {
     "name": "stdout",
     "output_type": "stream",
     "text": [
      "The Strings are anagrams\n"
     ]
    }
   ],
   "source": [
    "s1 = \"listen\"\n",
    "s2 = \"silent\"\n",
    "if (sorted(s1))== (sorted(s2)):\n",
    "    print(\"The Strings are anagrams\")\n",
    "else :\n",
    "    print(\"The Strings are not anagrams\")"
   ]
  },
  {
   "cell_type": "code",
   "execution_count": 8,
   "id": "9267eed3-8c63-43b7-bb14-9318d776bc16",
   "metadata": {},
   "outputs": [
    {
     "name": "stdout",
     "output_type": "stream",
     "text": [
      "I$ am@ Anish@ Chandra! I& Complete# Msc@ In Remote& Sensing^ And! GIS@\n"
     ]
    }
   ],
   "source": [
    "x = \"I$ am@ Anish@ Chandra! .I& Complete# M.sc@ In Remote& Sensing^ And! GIS@.\"\n",
    "y = '''!()-[]{};:'\"\\,<>./?@#$%^&*_~'''\n",
    "z=0\n",
    "for i in x:\n",
    "    if i in y:\n",
    "        z=x.replace(i,\"\")\n",
    "   \n",
    "print(z)"
   ]
  },
  {
   "cell_type": "code",
   "execution_count": 15,
   "id": "04429f0a-333c-4561-b7ec-27779b79c8b2",
   "metadata": {},
   "outputs": [
    {
     "name": "stdout",
     "output_type": "stream",
     "text": [
      "2020\n",
      "['My', 'name', 'is', 'Anish', 'Chandra.', 'I', 'complete', 'B.sc', 'in', 'In', 'Mathematis', 'and', 'i', 'complete', 'MSC', 'in', 'Remote', 'sensing', 'and', 'GIS.']\n"
     ]
    }
   ],
   "source": [
    "x =\"My name is Anish Chandra. I complete B.sc in 2020 In Mathematis and i complete MSC in Remote sensing and GIS.\"\n",
    "\n",
    "y=x.split()\n",
    "z=y.pop(9)\n",
    "print(z)\n",
    "print(y)"
   ]
  },
  {
   "cell_type": "code",
   "execution_count": 23,
   "id": "716665d1-4571-4a0d-b827-d5c137eaf4bd",
   "metadata": {},
   "outputs": [
    {
     "name": "stdout",
     "output_type": "stream",
     "text": [
      "My name iands Anish Chandra. I complete B.sc in 2020 In Mathematis and i complete MSC in Remote sensing and GIS.\n"
     ]
    }
   ],
   "source": [
    "x =\"My name is Anish Chandra. I complete B.sc in 2020 In Mathematis and i complete MSC in Remote sensing and GIS.\"\n",
    "y=x.split()\n",
    "l=9\n",
    "z=\"and\"\n",
    "z=x[:l] + z +x[l:]\n",
    "print(z)"
   ]
  },
  {
   "cell_type": "code",
   "execution_count": 25,
   "id": "49917b28-3fa6-4e2f-afba-ce1f911a6187",
   "metadata": {},
   "outputs": [
    {
     "data": {
      "text/plain": [
       "[1, 2, 3, 4, 5, 6, 7, 8, 9, 10]"
      ]
     },
     "execution_count": 25,
     "metadata": {},
     "output_type": "execute_result"
    }
   ],
   "source": [
    "x=[1,2,3,4,5,6,7,8,9,10]\n",
    "x"
   ]
  },
  {
   "cell_type": "code",
   "execution_count": 28,
   "id": "c2a0a08e-e658-40c9-897b-13bf3e0a304f",
   "metadata": {},
   "outputs": [
    {
     "name": "stdout",
     "output_type": "stream",
     "text": [
      "7\n"
     ]
    }
   ],
   "source": [
    "s=[1,5,6,7,5,8,10]\n",
    "\n",
    "count=0\n",
    "for i in s:\n",
    "    count=count+1\n",
    "print(count)"
   ]
  },
  {
   "cell_type": "code",
   "execution_count": 30,
   "id": "f8b7c64e-243a-4164-a0f9-fb51f51299d0",
   "metadata": {},
   "outputs": [
    {
     "data": {
      "text/plain": [
       "[1, 5, 6, 7, 5, 8, 10, 30]"
      ]
     },
     "execution_count": 30,
     "metadata": {},
     "output_type": "execute_result"
    }
   ],
   "source": [
    "s=[1,5,6,7,5,8,10]\n",
    "s.append(30)\n",
    "s"
   ]
  },
  {
   "cell_type": "code",
   "execution_count": 31,
   "id": "80a34a4c-2802-410f-8a9f-e7a55c05b30e",
   "metadata": {},
   "outputs": [
    {
     "data": {
      "text/plain": [
       "[1, 5, 6, 7, 3, 5, 8, 10]"
      ]
     },
     "execution_count": 31,
     "metadata": {},
     "output_type": "execute_result"
    }
   ],
   "source": [
    "s=[1,5,6,7,5,8,10]\n",
    "s.insert(4,3)\n",
    "s"
   ]
  },
  {
   "cell_type": "code",
   "execution_count": 32,
   "id": "ca997217-fc80-45c0-abcd-cec4d4ea4ff7",
   "metadata": {},
   "outputs": [
    {
     "data": {
      "text/plain": [
       "[1, 5, 6, 7, 5, 10]"
      ]
     },
     "execution_count": 32,
     "metadata": {},
     "output_type": "execute_result"
    }
   ],
   "source": [
    "s=[1,5,6,7,5,8,10]\n",
    "s.remove(8)\n",
    "s"
   ]
  },
  {
   "cell_type": "code",
   "execution_count": 33,
   "id": "178150be-31c1-4428-99e1-972edc6148b2",
   "metadata": {},
   "outputs": [
    {
     "data": {
      "text/plain": [
       "[1, 5, 6, 5, 8, 10]"
      ]
     },
     "execution_count": 33,
     "metadata": {},
     "output_type": "execute_result"
    }
   ],
   "source": [
    "s=[1,5,6,7,5,8,10]\n",
    "s.pop(3)\n",
    "s"
   ]
  },
  {
   "cell_type": "code",
   "execution_count": 37,
   "id": "749a00f3-d27a-4933-a57e-96587976e46f",
   "metadata": {},
   "outputs": [
    {
     "name": "stdout",
     "output_type": "stream",
     "text": [
      "Present in list\n"
     ]
    }
   ],
   "source": [
    "s=[1,5,6,7,5,8,10]\n",
    "h=1\n",
    "if h in s:\n",
    "    print(\"Present in list\")\n",
    "else:\n",
    "    print(\"Not present in list\")"
   ]
  },
  {
   "cell_type": "code",
   "execution_count": 1,
   "id": "6af76b04-927f-443d-b311-2506902597c1",
   "metadata": {},
   "outputs": [
    {
     "data": {
      "text/plain": [
       "4"
      ]
     },
     "execution_count": 1,
     "metadata": {},
     "output_type": "execute_result"
    }
   ],
   "source": [
    "x=[1,5,6,4,7,8,1,9,1,4,5,1,2]\n",
    "x.count(1)"
   ]
  },
  {
   "cell_type": "code",
   "execution_count": 3,
   "id": "d0ce3d69-479b-474e-b0cc-3658d403f3e1",
   "metadata": {},
   "outputs": [
    {
     "name": "stdout",
     "output_type": "stream",
     "text": [
      "1\n"
     ]
    }
   ],
   "source": [
    "x=[1,5,6,4,7,8,1,9,1,4,5,1,2]\n",
    "y=1\n",
    "z=x.index(5)\n",
    "print(z)"
   ]
  },
  {
   "cell_type": "code",
   "execution_count": 5,
   "id": "29f793ac-be31-4535-9727-63a7dd0c0056",
   "metadata": {},
   "outputs": [
    {
     "name": "stdout",
     "output_type": "stream",
     "text": [
      "[2, 1, 5, 4, 1, 9, 1, 8, 7, 4, 6, 5, 1]\n"
     ]
    }
   ],
   "source": [
    "x=[1,5,6,4,7,8,1,9,1,4,5,1,2]\n",
    "y=x[-1::-1]\n",
    "print(y)"
   ]
  },
  {
   "cell_type": "code",
   "execution_count": 8,
   "id": "dc8bd4fc-e294-4a7d-a728-19fb5907434c",
   "metadata": {},
   "outputs": [
    {
     "name": "stdout",
     "output_type": "stream",
     "text": [
      "[1, 1, 1, 1, 2, 4, 4, 5, 5, 6, 7, 8, 9]\n"
     ]
    }
   ],
   "source": [
    "x=[1,5,6,4,7,8,1,9,1,4,5,1,2]\n",
    "y=sorted(x)\n",
    "print(y)"
   ]
  },
  {
   "cell_type": "code",
   "execution_count": 12,
   "id": "8a5f22cb-602e-4917-a6fe-e02257c00d59",
   "metadata": {},
   "outputs": [
    {
     "name": "stdout",
     "output_type": "stream",
     "text": [
      "[9, 8, 7, 6, 5, 5, 4, 4, 2, 1, 1, 1, 1]\n"
     ]
    }
   ],
   "source": [
    "x=[1,5,6,4,7,8,1,9,1,4,5,1,2]\n",
    "x.sort(reverse=True)\n",
    "print(x)"
   ]
  },
  {
   "cell_type": "code",
   "execution_count": 33,
   "id": "1a972810-5715-4150-a335-6a3d51d805be",
   "metadata": {},
   "outputs": [
    {
     "name": "stdout",
     "output_type": "stream",
     "text": [
      "[2, 4, 6, 8, 10, 12, 14, 16, 18, 20]\n"
     ]
    }
   ],
   "source": [
    "x=[]\n",
    "for i in range (1,21):\n",
    "    if i%2 == 0:\n",
    "       x.append(i)\n",
    "print(x)"
   ]
  },
  {
   "cell_type": "code",
   "execution_count": 35,
   "id": "3271a233-0572-4583-9306-e4942d9460a4",
   "metadata": {},
   "outputs": [
    {
     "name": "stdout",
     "output_type": "stream",
     "text": [
      "[1, 3, 5, 7, 9, 11, 13, 15, 17, 19]\n"
     ]
    }
   ],
   "source": [
    "x=[]\n",
    "for i in range (1,21):\n",
    "    if i%2 != 0:\n",
    "       x.append(i)\n",
    "print(x)"
   ]
  },
  {
   "cell_type": "code",
   "execution_count": 40,
   "id": "ec41a086-8bca-41ed-9e6b-e61001d60657",
   "metadata": {},
   "outputs": [
    {
     "name": "stdout",
     "output_type": "stream",
     "text": [
      "54\n"
     ]
    }
   ],
   "source": [
    "x=[1,5,6,4,7,8,1,9,1,4,5,1,2]\n",
    "y=sum(x)\n",
    "print(y)"
   ]
  },
  {
   "cell_type": "code",
   "execution_count": 42,
   "id": "ecbd9ba1-57fe-4919-91bb-a9b4de06fa5e",
   "metadata": {},
   "outputs": [
    {
     "name": "stdout",
     "output_type": "stream",
     "text": [
      "9\n"
     ]
    }
   ],
   "source": [
    "x=[1,5,6,4,7,8,1,9,1,4,5,1,2]\n",
    "y=max(x)\n",
    "print(y)"
   ]
  },
  {
   "cell_type": "code",
   "execution_count": 43,
   "id": "47e66761-5bd2-490f-8568-5ce2374314f5",
   "metadata": {},
   "outputs": [
    {
     "name": "stdout",
     "output_type": "stream",
     "text": [
      "-3\n"
     ]
    }
   ],
   "source": [
    "x=[1,5,6,4,7,8,1,9,1,4,5,1,2,(-3)]\n",
    "y=min(x)\n",
    "print(y)"
   ]
  },
  {
   "cell_type": "code",
   "execution_count": 49,
   "id": "6862600d-33d1-494e-b75f-acbe61d5a5bc",
   "metadata": {},
   "outputs": [
    {
     "name": "stdout",
     "output_type": "stream",
     "text": [
      "[1, 4, 9, 16, 25, 36, 49, 64, 81]\n"
     ]
    }
   ],
   "source": [
    "x=[]\n",
    "y=[]\n",
    "for i in range (1,10):\n",
    "    x=i*i\n",
    "    y.append(x)\n",
    "print(y)\n",
    "    "
   ]
  },
  {
   "cell_type": "code",
   "execution_count": 52,
   "id": "2bfbce9d-b39f-47ce-941a-e876b5c89255",
   "metadata": {},
   "outputs": [
    {
     "name": "stdout",
     "output_type": "stream",
     "text": [
      "[1, 2, 3, 4, 5, 6, 7, 8, 9, 10, 11, 12, 13, 14, 15, 16, 17, 18, 19, 20, 21, 22, 23, 24, 25, 26, 27, 28, 29, 30, 31, 32, 33, 34, 35, 36, 37, 38, 39, 40, 41, 42, 43, 44, 45, 46, 47, 48, 49, 50, 51, 52, 53, 54, 55, 56, 57, 58, 59, 60, 61, 62, 63, 64, 65, 66, 67, 68, 69, 70, 71, 72, 73, 74, 75, 76, 77, 78, 79, 80, 81, 82, 83, 84, 85, 86, 87, 88, 89, 90, 91, 92, 93, 94, 95, 96, 97, 98, 99]\n"
     ]
    }
   ],
   "source": [
    "x=[]\n",
    "for i in range (1,100):\n",
    "    x.append(i)\n",
    "print(x)"
   ]
  },
  {
   "cell_type": "code",
   "execution_count": 53,
   "id": "564c9757-5206-4635-a16a-492fbcc3890c",
   "metadata": {},
   "outputs": [
    {
     "name": "stdout",
     "output_type": "stream",
     "text": [
      "[1, 2, 4, 5, 6, 7, 8, 9, -3]\n"
     ]
    }
   ],
   "source": [
    "x=[1,5,6,4,7,8,1,9,1,4,5,1,2,(-3)]\n",
    "y=list(set(x))\n",
    "print(y)       \n"
   ]
  },
  {
   "cell_type": "code",
   "execution_count": 54,
   "id": "21795b51-41a5-4ccf-8e82-c85501cffafb",
   "metadata": {},
   "outputs": [
    {
     "name": "stdout",
     "output_type": "stream",
     "text": [
      "[1, 5, 6, 4, 7, 8, 9, 2]\n"
     ]
    }
   ],
   "source": [
    "x=[1,5,6,4,7,8,1,9,1,4,5,1,2]\n",
    "y = []\n",
    "for item in x:\n",
    "    if item not in y:\n",
    "        y.append(item)\n",
    "\n",
    "print(y)\n"
   ]
  },
  {
   "cell_type": "code",
   "execution_count": 55,
   "id": "296267c9-8fd2-4b73-9c83-9450ddac8552",
   "metadata": {},
   "outputs": [
    {
     "name": "stdout",
     "output_type": "stream",
     "text": [
      "[3, 4, 5, 10, 7, 12, 9]\n"
     ]
    }
   ],
   "source": [
    "x = [1, 2, 3, 4, 5,10,25,7,64,12,9]\n",
    "y = [3, 4, 5, 6, 7,10,60,9,12]\n",
    "\n",
    "z = []\n",
    "\n",
    "for item in x:\n",
    "    if item in y:\n",
    "        z.append(item)\n",
    "\n",
    "print(z)"
   ]
  },
  {
   "cell_type": "code",
   "execution_count": 58,
   "id": "6ded2010-f189-4da6-a707-ff1e751c9096",
   "metadata": {},
   "outputs": [
    {
     "name": "stdout",
     "output_type": "stream",
     "text": [
      "[1, 2, 3, 4, 5, 10, 25, 7, 64, 12, 9, 3, 4, 5, 6, 7, 10, 60, 9, 12]\n"
     ]
    }
   ],
   "source": [
    "x = [1, 2, 3, 4, 5,10,25,7,64,12,9]\n",
    "y = [3, 4, 5, 6, 7,10,60,9,12]\n",
    "x.extend(y)\n",
    "print(x)"
   ]
  },
  {
   "cell_type": "code",
   "execution_count": 59,
   "id": "89164dd3-79d2-4f21-8673-1197d3a60337",
   "metadata": {},
   "outputs": [
    {
     "name": "stdout",
     "output_type": "stream",
     "text": [
      "[2, 4, 6, 8, 10, 12, 14, 16, 18]\n"
     ]
    }
   ],
   "source": [
    "x=[]\n",
    "y=[]\n",
    "for i in range (1,10):\n",
    "    x=i*2\n",
    "    y.append(x)\n",
    "print(y)\n",
    "    "
   ]
  },
  {
   "cell_type": "code",
   "execution_count": 61,
   "id": "0741b551-f028-49ec-b9f2-ccc0f473e09d",
   "metadata": {},
   "outputs": [
    {
     "name": "stdout",
     "output_type": "stream",
     "text": [
      "[2, 4, 10, 64, 12]\n"
     ]
    }
   ],
   "source": [
    "x = [1, 2, 3, 4, 5,10,25,7,64,12,9]\n",
    "y=[]\n",
    "for i in x:\n",
    "    if i%2==0:\n",
    "        y.append(i)\n",
    "print(y)        \n"
   ]
  },
  {
   "cell_type": "code",
   "execution_count": 1,
   "id": "4db6400f-9629-470b-8f97-61baea98e65d",
   "metadata": {},
   "outputs": [
    {
     "name": "stdout",
     "output_type": "stream",
     "text": [
      "[1, 2, 3, 6, 8, 9]\n"
     ]
    }
   ],
   "source": [
    "x=[\"1\",\"2\",\"3\",\"6\",\"8\",\"9\"]\n",
    "y=list(map(int,x))\n",
    "print(y)"
   ]
  },
  {
   "cell_type": "code",
   "execution_count": 2,
   "id": "c90d65c4-d2ac-4400-b0f8-1e0192bfa276",
   "metadata": {},
   "outputs": [
    {
     "name": "stdout",
     "output_type": "stream",
     "text": [
      "['1', '2', '3', '6', '8', '9']\n"
     ]
    }
   ],
   "source": [
    "x=[1, 2, 3, 6, 8, 9]\n",
    "y=list(map(str,x))\n",
    "print(y)"
   ]
  },
  {
   "cell_type": "code",
   "execution_count": 12,
   "id": "0e289259-9eb2-4311-adda-fdd90630e3f4",
   "metadata": {},
   "outputs": [
    {
     "name": "stdout",
     "output_type": "stream",
     "text": [
      "[0, 1, 1, 2, 3, 5, 8, 13, 21, 34]\n"
     ]
    }
   ],
   "source": [
    "n=10\n",
    "a=0\n",
    "b=1\n",
    "x=[]\n",
    "if n==1:\n",
    "    print(a)\n",
    "else :\n",
    "    x.append(a)\n",
    "    x.append(b)\n",
    "    for i in range (2,n):\n",
    "        c=a+b\n",
    "        a=b\n",
    "        b=c\n",
    "        x.append(c)   \n",
    "print(x)\n"
   ]
  },
  {
   "cell_type": "code",
   "execution_count": 17,
   "id": "3d941efa-373b-4ddc-bd46-75464e3505a4",
   "metadata": {},
   "outputs": [
    {
     "name": "stdout",
     "output_type": "stream",
     "text": [
      "List is sorted\n"
     ]
    }
   ],
   "source": [
    "x=[1,5,4,3,7,8,5,9]\n",
    "y=sorted(x)\n",
    "\n",
    "if (sorted(x))==y:\n",
    "    print(\"List is sorted\")\n",
    "else:\n",
    "    print(\"list  is not sorted\")\n",
    "                     "
   ]
  },
  {
   "cell_type": "code",
   "execution_count": 21,
   "id": "b61fb76d-b35f-4b8e-954e-47e84b721036",
   "metadata": {},
   "outputs": [
    {
     "name": "stdout",
     "output_type": "stream",
     "text": [
      "[7, 8, 5, 9, 1, 5, 4, 3]\n"
     ]
    }
   ],
   "source": [
    "n=4\n",
    "x=[1,5,4,3,7,8,5,9]\n",
    "y=x[n:] + x[:n]\n",
    "print(str(y))"
   ]
  },
  {
   "cell_type": "code",
   "execution_count": 27,
   "id": "4bad686c-41a4-4e20-9d98-f0ceb1cb0b67",
   "metadata": {},
   "outputs": [
    {
     "name": "stdout",
     "output_type": "stream",
     "text": [
      "[1, 5, 4, 3, 7, 9, 5, 8]\n"
     ]
    }
   ],
   "source": [
    "n=4\n",
    "x=[1,5,4,3,7,8,5,9]\n",
    "y=x[:n+1] + x[-1:n:-1]\n",
    "print(str(y))"
   ]
  },
  {
   "cell_type": "code",
   "execution_count": 42,
   "id": "3e0e77a0-15f5-47ec-8786-e8b322d7619b",
   "metadata": {},
   "outputs": [
    {
     "name": "stdout",
     "output_type": "stream",
     "text": [
      "[2, 3, 5, 7, 11, 13, 17, 19, 23, 29, 31, 37, 41, 43, 47]\n"
     ]
    }
   ],
   "source": [
    "y=[]\n",
    "for x in range(2,50):\n",
    "    prime= True\n",
    "    for i in range(2,x):\n",
    "        if (x%i==0):\n",
    "            prime = False\n",
    "    if prime:\n",
    "      \n",
    "        y.append(x)\n",
    "        \n",
    "   \n",
    "print(y)        "
   ]
  },
  {
   "cell_type": "code",
   "execution_count": 49,
   "id": "834d17ff-adb7-4673-aeb2-a9f9674c1e88",
   "metadata": {},
   "outputs": [
    {
     "name": "stdout",
     "output_type": "stream",
     "text": [
      "8\n"
     ]
    }
   ],
   "source": [
    "x=[1,5,4,3,7,8,5,9]\n",
    "y=max(x)\n",
    "x.remove(y)\n",
    "z=max(x)\n",
    "print(z)\n"
   ]
  },
  {
   "cell_type": "code",
   "execution_count": 55,
   "id": "05ae97b9-08ea-4d10-a0af-be300fa90b45",
   "metadata": {},
   "outputs": [
    {
     "name": "stdout",
     "output_type": "stream",
     "text": [
      "[1, 25, 16, 9, 49, 64, 36, 81]\n"
     ]
    }
   ],
   "source": [
    "x=[1,5,4,3,7,8,6,9]\n",
    "y=0\n",
    "z=[]\n",
    "for i in x:\n",
    "    y=i**2\n",
    "    z.append(y)\n",
    "print(z)"
   ]
  },
  {
   "cell_type": "code",
   "execution_count": 58,
   "id": "17dc7354-6785-450a-a5e1-e3ad6ec6815e",
   "metadata": {},
   "outputs": [
    {
     "name": "stdout",
     "output_type": "stream",
     "text": [
      "{'Apple': '5', 'Orange': '5', 'Lemon': '5', 'Guava': '5', 'Watermelion': '5'}\n"
     ]
    }
   ],
   "source": [
    "x=[\"Apple\",\"Orange\",\"Lemon\",\"Guava\",\"Watermelion\"]\n",
    "y=[\"1\",\"2\",\"3\",\"4\",\"5\"]\n",
    "d={}\n",
    "for i in x:\n",
    "    for j in y:\n",
    "        d[i]=j\n",
    "print (d)"
   ]
  },
  {
   "cell_type": "code",
   "execution_count": 59,
   "id": "1947d30e-98de-4684-883d-a57951b02b31",
   "metadata": {},
   "outputs": [
    {
     "name": "stdout",
     "output_type": "stream",
     "text": [
      "[7, 6, 4, 9, 2, 3, 5]\n"
     ]
    }
   ],
   "source": [
    "import random\n",
    "x=[5,4,9,7,2,6,3,]\n",
    "random.shuffle(x)\n",
    "print(x)"
   ]
  },
  {
   "cell_type": "code",
   "execution_count": 63,
   "id": "1b85b615-5021-419a-8e9f-e70fa997278c",
   "metadata": {},
   "outputs": [
    {
     "name": "stdout",
     "output_type": "stream",
     "text": [
      "[1, 2, 6, 24, 120, 720, 5040, 40320, 362880]\n"
     ]
    }
   ],
   "source": [
    "x=1\n",
    "y=[]\n",
    "for i in range (1,10):\n",
    "    x=x*i\n",
    "    y.append(x)\n",
    "print(y)    "
   ]
  },
  {
   "cell_type": "code",
   "execution_count": 77,
   "id": "d54c0304-b6ce-464e-9d64-e10d8763f3ba",
   "metadata": {
    "jupyter": {
     "source_hidden": true
    },
    "tags": []
   },
   "outputs": [
    {
     "name": "stdout",
     "output_type": "stream",
     "text": [
      "There have comon element\n"
     ]
    }
   ],
   "source": [
    "x = [1, 2, 3, 4, 5,10,25,7,64,12,9]\n",
    "y = [3, 4, 5, 6, 7,10,60,9,12]\n",
    "z=[100]\n",
    "common_element=False\n",
    "for i in x:\n",
    "    if i in y:\n",
    "        common_element=True\n",
    "        break\n",
    "    \n",
    "if common_element:\n",
    "    print(\"There have comon element\")\n",
    "else:\n",
    "    print(\"There have no comon element\")\n",
    "      "
   ]
  },
  {
   "cell_type": "code",
   "execution_count": 81,
   "id": "3312d8f0-e654-4cb8-9b7f-4578f991aec4",
   "metadata": {},
   "outputs": [
    {
     "data": {
      "text/plain": [
       "[]"
      ]
     },
     "execution_count": 81,
     "metadata": {},
     "output_type": "execute_result"
    }
   ],
   "source": [
    "x = [1, 2, 3, 4, 5,10,25,7,64,12,9]\n",
    "x.clear()\n",
    "x"
   ]
  },
  {
   "cell_type": "code",
   "execution_count": 93,
   "id": "b46ecbe5-7ff9-4cd3-b8af-5098e5987ef0",
   "metadata": {},
   "outputs": [
    {
     "ename": "IndentationError",
     "evalue": "expected an indented block after 'if' statement on line 4 (3383979349.py, line 5)",
     "output_type": "error",
     "traceback": [
      "\u001b[0;36m  Cell \u001b[0;32mIn[93], line 5\u001b[0;36m\u001b[0m\n\u001b[0;31m    i = 0\u001b[0m\n\u001b[0m    ^\u001b[0m\n\u001b[0;31mIndentationError\u001b[0m\u001b[0;31m:\u001b[0m expected an indented block after 'if' statement on line 4\n"
     ]
    }
   ],
   "source": [
    "x = [1, 2, 3, 4, 5,10,25,(-7),64,12,(-9),(-3),(-16)]\n",
    "y=[]\n",
    "for i in range(len(x)):\n",
    "    if i<0: \n",
    "        i = 0\n",
    "    y.append(i)\n",
    "print(y)"
   ]
  },
  {
   "cell_type": "code",
   "execution_count": 1,
   "id": "a79db1fc-c186-4c87-b6bc-a5ebcaa229a5",
   "metadata": {},
   "outputs": [
    {
     "name": "stdout",
     "output_type": "stream",
     "text": [
      "['This', 'is', 'a', 'sample', 'sentence.']\n"
     ]
    }
   ],
   "source": [
    "text = \"This is a sample sentence.\"\n",
    "\n",
    "\n",
    "y = text.split()\n",
    "\n",
    "print(y)"
   ]
  },
  {
   "cell_type": "code",
   "execution_count": 3,
   "id": "a8436f9a-051b-455e-a59b-99eb26307598",
   "metadata": {},
   "outputs": [
    {
     "name": "stdout",
     "output_type": "stream",
     "text": [
      "This is a sample sentence.\n"
     ]
    }
   ],
   "source": [
    "text =['This', 'is', 'a', 'sample', 'sentence.']\n",
    "y=' '.join(text)\n",
    "print(y)"
   ]
  },
  {
   "cell_type": "code",
   "execution_count": 7,
   "id": "45a5bf76-390e-45a8-97eb-0c8ea545cfec",
   "metadata": {},
   "outputs": [
    {
     "name": "stdout",
     "output_type": "stream",
     "text": [
      "[2, 4, 8, 16, 32]\n"
     ]
    }
   ],
   "source": [
    "n=6\n",
    "y=[]\n",
    "for i in range(1,n):\n",
    "    x=2**i\n",
    "    y.append(x)\n",
    "\n",
    "print(y)"
   ]
  },
  {
   "cell_type": "code",
   "execution_count": 8,
   "id": "65eb1a6e-6d71-4078-87ad-4bf2d191206b",
   "metadata": {},
   "outputs": [
    {
     "name": "stdout",
     "output_type": "stream",
     "text": [
      "elderberry\n"
     ]
    }
   ],
   "source": [
    "string_list = [\"apple\", \"banana\", \"cherry\", \"date\", \"elderberry\"]\n",
    "\n",
    "\n",
    "longest_string = max(string_list, key=len)\n",
    "\n",
    "print(longest_string)\n"
   ]
  },
  {
   "cell_type": "code",
   "execution_count": 9,
   "id": "28f4ef33-db89-4327-963e-f13e7ab9616a",
   "metadata": {},
   "outputs": [
    {
     "name": "stdout",
     "output_type": "stream",
     "text": [
      "date\n"
     ]
    }
   ],
   "source": [
    "string_list = [\"apple\", \"banana\", \"cherry\", \"date\", \"elderberry\"]\n",
    "\n",
    "\n",
    "Shortest_string = min(string_list, key=len)\n",
    "\n",
    "print(Shortest_string)\n"
   ]
  },
  {
   "cell_type": "code",
   "execution_count": 10,
   "id": "113df331-202b-45e6-aea3-abc206cce66f",
   "metadata": {},
   "outputs": [
    {
     "data": {
      "text/plain": [
       "[1, 2, 3, 4, 5, 10, 25, 7, 64, 12, 9, [3, 4, 5, 6, 7, 10, 60, 9, 12]]"
      ]
     },
     "execution_count": 10,
     "metadata": {},
     "output_type": "execute_result"
    }
   ],
   "source": [
    "x = [1, 2, 3, 4, 5,10,25,7,64,12,9]\n",
    "y = [3, 4, 5, 6, 7,10,60,9,12]\n",
    "x.append(y)\n",
    "x"
   ]
  },
  {
   "cell_type": "code",
   "execution_count": 11,
   "id": "95c4fef2-497f-4515-9b11-33bc0065df86",
   "metadata": {},
   "outputs": [
    {
     "name": "stdout",
     "output_type": "stream",
     "text": [
      "[1, 4, 3, 2, 5]\n"
     ]
    }
   ],
   "source": [
    "my_list = [1, 2, 3, 4, 5]\n",
    "\n",
    "\n",
    "index1 = 1 \n",
    "index2 = 3  \n",
    "\n",
    "\n",
    "temp = my_list[index1]\n",
    "my_list[index1] = my_list[index2]\n",
    "my_list[index2] = temp\n",
    "\n",
    "\n",
    "print(my_list)\n"
   ]
  },
  {
   "cell_type": "code",
   "execution_count": 2,
   "id": "1b3eb800-316b-4fbb-b3e0-3634457ca60a",
   "metadata": {},
   "outputs": [
    {
     "name": "stdout",
     "output_type": "stream",
     "text": [
      "(1, 2, 3, 4, 5)\n"
     ]
    },
    {
     "data": {
      "text/plain": [
       "tuple"
      ]
     },
     "execution_count": 2,
     "metadata": {},
     "output_type": "execute_result"
    }
   ],
   "source": [
    "x=(1,2,3,4,5)\n",
    "print(x)\n",
    "type(x)"
   ]
  },
  {
   "cell_type": "code",
   "execution_count": 3,
   "id": "564ea0fb-0bc7-437c-8480-cb14cb9bb0d9",
   "metadata": {},
   "outputs": [
    {
     "name": "stdout",
     "output_type": "stream",
     "text": [
      "4\n"
     ]
    }
   ],
   "source": [
    "x=(1,2,3,4,5)\n",
    "y=x[3]\n",
    "print(y)"
   ]
  },
  {
   "cell_type": "code",
   "execution_count": 4,
   "id": "8ad5a8e2-466f-447e-932f-f490ea04bff1",
   "metadata": {},
   "outputs": [
    {
     "name": "stdout",
     "output_type": "stream",
     "text": [
      "5\n"
     ]
    }
   ],
   "source": [
    "x=(1,2,3,4,5)\n",
    "count=0\n",
    "for i in x:\n",
    "    count=count+1\n",
    "print(count)"
   ]
  },
  {
   "cell_type": "code",
   "execution_count": 6,
   "id": "5aa216a3-9227-4e76-a5e5-28756e487b4f",
   "metadata": {},
   "outputs": [
    {
     "name": "stdout",
     "output_type": "stream",
     "text": [
      "3\n"
     ]
    }
   ],
   "source": [
    "x=(1,2,3,4,5,2,4,7,3,2,12,54,12,10,4)\n",
    "y=x.count(4)\n",
    "print(y)\n"
   ]
  },
  {
   "cell_type": "code",
   "execution_count": 11,
   "id": "41b44742-ec84-4195-be2f-0d3f97f6b736",
   "metadata": {},
   "outputs": [
    {
     "name": "stdout",
     "output_type": "stream",
     "text": [
      "Present\n"
     ]
    }
   ],
   "source": [
    "x=(1,2,3,4,5,2,4,7,3,2,12,54,12,10,4)\n",
    "y=(3)\n",
    "\n",
    "if y in x:\n",
    "    print(\"Present\")\n",
    "else:\n",
    "    print(\"Not Present\")"
   ]
  },
  {
   "cell_type": "code",
   "execution_count": 12,
   "id": "335bc2c8-d5df-471d-8bbf-6abbd69ddbc2",
   "metadata": {},
   "outputs": [
    {
     "data": {
      "text/plain": [
       "[1, 2, 3, 4, 5]"
      ]
     },
     "execution_count": 12,
     "metadata": {},
     "output_type": "execute_result"
    }
   ],
   "source": [
    "x=(1,2,3,4,5)\n",
    "y=list(x)\n",
    "y"
   ]
  },
  {
   "cell_type": "code",
   "execution_count": 14,
   "id": "75122414-cbbf-4c6d-af76-ac4a30748fb1",
   "metadata": {},
   "outputs": [
    {
     "data": {
      "text/plain": [
       "(1, 2, 3, 4, 5)"
      ]
     },
     "execution_count": 14,
     "metadata": {},
     "output_type": "execute_result"
    }
   ],
   "source": [
    "x=[1, 2, 3, 4, 5]\n",
    "y=tuple(x)\n",
    "y"
   ]
  },
  {
   "cell_type": "code",
   "execution_count": 5,
   "id": "f1794a4d-b1f8-45e5-8f8f-ff180d6957d6",
   "metadata": {},
   "outputs": [
    {
     "data": {
      "text/plain": [
       "(2, 4, 6, 8, 10)"
      ]
     },
     "execution_count": 5,
     "metadata": {},
     "output_type": "execute_result"
    }
   ],
   "source": [
    "x=[]\n",
    "for i in range (1,11):\n",
    "    if i%2 == 0:\n",
    "       x.append(i)\n",
    "tuple(x)"
   ]
  },
  {
   "cell_type": "code",
   "execution_count": 2,
   "id": "843e8ec6-f67c-4c0c-9d67-de0ad63b0771",
   "metadata": {},
   "outputs": [
    {
     "name": "stdout",
     "output_type": "stream",
     "text": [
      "1\n",
      "2\n",
      "3\n"
     ]
    }
   ],
   "source": [
    "my_tuple = (1, 2, 3)\n",
    "a, b, c = my_tuple\n",
    "print(a)\n",
    "print(b)\n",
    "print(c)"
   ]
  },
  {
   "cell_type": "code",
   "execution_count": 6,
   "id": "608af9c2-9f52-45a5-b904-8cadc3efbce4",
   "metadata": {},
   "outputs": [
    {
     "data": {
      "text/plain": [
       "(1, 3, 5, 7, 9)"
      ]
     },
     "execution_count": 6,
     "metadata": {},
     "output_type": "execute_result"
    }
   ],
   "source": [
    "x=[]\n",
    "for i in range (1,11):\n",
    "    if i%2 != 0:\n",
    "       x.append(i)\n",
    "tuple(x)"
   ]
  },
  {
   "cell_type": "code",
   "execution_count": 7,
   "id": "e150ff86-3d63-4514-a5da-2868c5fcc699",
   "metadata": {},
   "outputs": [
    {
     "name": "stdout",
     "output_type": "stream",
     "text": [
      "(2, 4, 6, 8, 10, 1, 3, 5, 7, 9)\n"
     ]
    }
   ],
   "source": [
    "x=(2, 4, 6, 8, 10)\n",
    "y=(1, 3, 5, 7, 9)\n",
    "z=x+y\n",
    "print(z)"
   ]
  },
  {
   "cell_type": "code",
   "execution_count": 8,
   "id": "2b412bcf-e073-4152-ad85-21e505a3f618",
   "metadata": {},
   "outputs": [
    {
     "name": "stdout",
     "output_type": "stream",
     "text": [
      "(1, 3, 5, 7, 9, 1, 3, 5, 7, 9, 1, 3, 5, 7, 9)\n"
     ]
    }
   ],
   "source": [
    "x=(1, 3, 5, 7, 9)\n",
    "y=x*3\n",
    "print(y)"
   ]
  },
  {
   "cell_type": "code",
   "execution_count": 9,
   "id": "acd25377-0d99-4e19-855a-fd319ec8c0cf",
   "metadata": {},
   "outputs": [
    {
     "name": "stdout",
     "output_type": "stream",
     "text": [
      "The tuple is empty\n"
     ]
    }
   ],
   "source": [
    "my_tuple = () \n",
    "\n",
    "if not my_tuple:\n",
    "    print(\"The tuple is empty\")\n",
    "else:\n",
    "    print(\"The tuple is not empty\")\n"
   ]
  },
  {
   "cell_type": "code",
   "execution_count": 13,
   "id": "5323ec3a-1755-4ccc-bc9b-87ecb6021ff6",
   "metadata": {},
   "outputs": [
    {
     "name": "stdout",
     "output_type": "stream",
     "text": [
      "(1, 2, 3)\n",
      "8\n"
     ]
    }
   ],
   "source": [
    "x = ((1, 2, 3), (4, 5, 6), (7, 8, 9))\n",
    "print(x[0])\n",
    "print(x[2][1])"
   ]
  },
  {
   "cell_type": "code",
   "execution_count": 1,
   "id": "858e43e9-9e95-4ae6-84fc-73115a240151",
   "metadata": {},
   "outputs": [
    {
     "name": "stdout",
     "output_type": "stream",
     "text": [
      "1\n"
     ]
    }
   ],
   "source": [
    "x=(1)\n",
    "print(x)"
   ]
  },
  {
   "cell_type": "code",
   "execution_count": 2,
   "id": "0d8500f3-c587-4c9d-9fe9-3fccc71ad455",
   "metadata": {},
   "outputs": [
    {
     "name": "stdout",
     "output_type": "stream",
     "text": [
      "tuple1 is equal to tuple2\n",
      "tuple1 is not equal to tuple3\n",
      "tuple1 is less than tuple3\n",
      "tuple3 is greater than tuple1\n"
     ]
    }
   ],
   "source": [
    "tuple1 = (1, 2, 3)\n",
    "tuple2 = (1, 2, 3)\n",
    "tuple3 = (4, 5, 6)\n",
    "\n",
    "\n",
    "if tuple1 == tuple2:\n",
    "    print(\"tuple1 is equal to tuple2\")\n",
    "else:\n",
    "    print(\"tuple1 is not equal to tuple2\")\n",
    "\n",
    "if tuple1 != tuple3:\n",
    "    print(\"tuple1 is not equal to tuple3\")\n",
    "else:\n",
    "    print(\"tuple1 is equal to tuple3\")\n",
    "\n",
    "if tuple1 < tuple3:\n",
    "    print(\"tuple1 is less than tuple3\")\n",
    "else:\n",
    "    print(\"tuple1 is not less than tuple3\")\n",
    "\n",
    "if tuple3 > tuple1:\n",
    "    print(\"tuple3 is greater than tuple1\")\n",
    "else:\n",
    "    print(\"tuple3 is not greater than tuple1\")\n"
   ]
  },
  {
   "cell_type": "code",
   "execution_count": 5,
   "id": "bcd2bef7-148b-4bc9-9a29-6337d47b7556",
   "metadata": {},
   "outputs": [
    {
     "ename": "NameError",
     "evalue": "name 'x' is not defined",
     "output_type": "error",
     "traceback": [
      "\u001b[0;31m---------------------------------------------------------------------------\u001b[0m",
      "\u001b[0;31mNameError\u001b[0m                                 Traceback (most recent call last)",
      "Cell \u001b[0;32mIn[5], line 3\u001b[0m\n\u001b[1;32m      1\u001b[0m x\u001b[38;5;241m=\u001b[39m(\u001b[38;5;241m1\u001b[39m, \u001b[38;5;241m3\u001b[39m, \u001b[38;5;241m5\u001b[39m, \u001b[38;5;241m7\u001b[39m, \u001b[38;5;241m9\u001b[39m)\n\u001b[1;32m      2\u001b[0m \u001b[38;5;28;01mdel\u001b[39;00m x\n\u001b[0;32m----> 3\u001b[0m \u001b[38;5;28mprint\u001b[39m(\u001b[43mx\u001b[49m)\n",
      "\u001b[0;31mNameError\u001b[0m: name 'x' is not defined"
     ]
    }
   ],
   "source": [
    "x=(1, 3, 5, 7, 9)\n",
    "del x\n",
    "print(x)\n"
   ]
  },
  {
   "cell_type": "code",
   "execution_count": 7,
   "id": "122869b5-2e7a-4c31-af1d-b578c91e0885",
   "metadata": {},
   "outputs": [
    {
     "name": "stdout",
     "output_type": "stream",
     "text": [
      "(1, 3)\n",
      "(5, 7, 9)\n"
     ]
    }
   ],
   "source": [
    "x=(1, 3, 5, 7, 9)\n",
    "print(x[:2])\n",
    "print(x[2:])"
   ]
  },
  {
   "cell_type": "code",
   "execution_count": 9,
   "id": "a6f42c72-b0fa-4ebc-bd99-d1337c0f0140",
   "metadata": {},
   "outputs": [
    {
     "name": "stdout",
     "output_type": "stream",
     "text": [
      "9\n"
     ]
    }
   ],
   "source": [
    "x=(1, 3, 5, 7, 9)\n",
    "y=max(x)\n",
    "print(y)"
   ]
  },
  {
   "cell_type": "code",
   "execution_count": 10,
   "id": "7db028b0-254b-40b4-ba86-23b4a9bb8ed6",
   "metadata": {},
   "outputs": [
    {
     "name": "stdout",
     "output_type": "stream",
     "text": [
      "1\n"
     ]
    }
   ],
   "source": [
    "x=(1, 3, 5, 7, 9)\n",
    "y=min(x)\n",
    "print(y)"
   ]
  },
  {
   "cell_type": "code",
   "execution_count": 3,
   "id": "f88b2b98-bb7d-4b33-be82-9b71b07c0c2d",
   "metadata": {},
   "outputs": [
    {
     "data": {
      "text/plain": [
       "('A', 'n', 'i', 's', 'h', ' ', 'C', 'h', 'a', 'n', 'd', 'r', 'a')"
      ]
     },
     "execution_count": 3,
     "metadata": {},
     "output_type": "execute_result"
    }
   ],
   "source": [
    "x=\"Anish Chandra\"\n",
    "y=[]\n",
    "for i in x:\n",
    "    y.append(i)\n",
    "tuple(y)"
   ]
  },
  {
   "cell_type": "code",
   "execution_count": 6,
   "id": "58dd4ad1-def3-4281-acf1-cc82aaa0d989",
   "metadata": {},
   "outputs": [
    {
     "name": "stdout",
     "output_type": "stream",
     "text": [
      "Anish Chandra\n"
     ]
    }
   ],
   "source": [
    "x=('A', 'n', 'i', 's', 'h', ' ', 'C', 'h', 'a', 'n', 'd', 'r', 'a')\n",
    "y=\"\".join(x)\n",
    "print(y)"
   ]
  },
  {
   "cell_type": "code",
   "execution_count": 7,
   "id": "ca445859-544e-41b6-945f-b1dabc43cfe9",
   "metadata": {},
   "outputs": [
    {
     "name": "stdout",
     "output_type": "stream",
     "text": [
      "(5, 8, 'Anish', True, 2.5)\n"
     ]
    }
   ],
   "source": [
    "x=(5,8,\"Anish\",True,2.5)\n",
    "print(x)"
   ]
  },
  {
   "cell_type": "code",
   "execution_count": 9,
   "id": "6a66cc75-d8f2-42bc-8919-40339d10e5f9",
   "metadata": {},
   "outputs": [
    {
     "name": "stdout",
     "output_type": "stream",
     "text": [
      "The two tuples are not identical.\n"
     ]
    }
   ],
   "source": [
    "tuple1 = (1, 2, 3)\n",
    "tuple2 = (1, 2, 4)\n",
    "\n",
    "\n",
    "if tuple1 == tuple2:\n",
    "    print(\"The two tuples are identical.\")\n",
    "else:\n",
    "    print(\"The two tuples are not identical.\")"
   ]
  },
  {
   "cell_type": "code",
   "execution_count": 20,
   "id": "1a92949f-5964-44e1-8f11-0fbeb3d36387",
   "metadata": {},
   "outputs": [
    {
     "data": {
      "text/plain": [
       "(1, 2, 3, 4, 5, 6, 7, 8, 9, 10, 12, 55)"
      ]
     },
     "execution_count": 20,
     "metadata": {},
     "output_type": "execute_result"
    }
   ],
   "source": [
    "x=(1,3,2,9,5,4,6,7,8,55,10,12)\n",
    "y=set(x)\n",
    "tuple(y)"
   ]
  },
  {
   "cell_type": "code",
   "execution_count": 27,
   "id": "da6fd6ef-fd89-4965-9a6c-3df3498bafc1",
   "metadata": {},
   "outputs": [
    {
     "name": "stdout",
     "output_type": "stream",
     "text": [
      "('1', '5', '3', '4', '6', '7', '9', '8', '12', '24', '10', '11')\n"
     ]
    }
   ],
   "source": [
    "x=(1,5,3,4,6,7,9,8,12,24,10,11)\n",
    "y=()\n",
    "for i in x:\n",
    "    y += (str(i),)\n",
    "print(y)\n"
   ]
  },
  {
   "cell_type": "code",
   "execution_count": 28,
   "id": "bf105279-90cc-49d5-9651-62acb2a80545",
   "metadata": {},
   "outputs": [
    {
     "name": "stdout",
     "output_type": "stream",
     "text": [
      "(1, 5, 3, 4, 6, 7, 9, 8, 12, 24, 10, 11)\n"
     ]
    }
   ],
   "source": [
    "x=('1', '5', '3', '4', '6', '7', '9', '8', '12', '24', '10', '11')\n",
    "y=()\n",
    "for i in x:\n",
    "    y += (int(i),)\n",
    "print(y)"
   ]
  },
  {
   "cell_type": "code",
   "execution_count": 31,
   "id": "c654f97a-a6ea-4b35-87bc-fd48ec393158",
   "metadata": {},
   "outputs": [
    {
     "data": {
      "text/plain": [
       "(1, 5, 3, 4, 6, 7, 9, 8, 12, 24, 10, 11, 35, 45, 85, 65, 20, 47)"
      ]
     },
     "execution_count": 31,
     "metadata": {},
     "output_type": "execute_result"
    }
   ],
   "source": [
    "x=(1,5,3,4,6,7,9,8,12,24,10,11)\n",
    "y=(35,45,85,65,20,47)\n",
    "x1=list(x)\n",
    "y1=list(y)\n",
    "z=x1+y1\n",
    "tuple(z)"
   ]
  },
  {
   "cell_type": "code",
   "execution_count": 35,
   "id": "2451b6e2-0e00-40a7-a6ae-cd448e4b04e8",
   "metadata": {},
   "outputs": [
    {
     "data": {
      "text/plain": [
       "(1, 3, 5, 7, 9)"
      ]
     },
     "execution_count": 35,
     "metadata": {},
     "output_type": "execute_result"
    }
   ],
   "source": [
    "x=[]\n",
    "for i in range (1,10):\n",
    "    if i%2 != 0:\n",
    "       x.append(i)\n",
    "tuple(x)"
   ]
  },
  {
   "cell_type": "code",
   "execution_count": 39,
   "id": "2e674581-bf39-4100-a442-617d396a3cbc",
   "metadata": {},
   "outputs": [
    {
     "name": "stdout",
     "output_type": "stream",
     "text": [
      "It is palindrome\n",
      "It is not a palindrome\n"
     ]
    }
   ],
   "source": [
    "x=(1,2,3,2,1)\n",
    "y=(1,2,3,4,5)\n",
    "if x==x[::-1]:\n",
    "    print(\"It is palindrome\")\n",
    "else:\n",
    "    print(\"It is not a palindrome\")\n",
    "if y==y[::-1]:\n",
    "    print(\"It is palindrome\")\n",
    "else:\n",
    "    print(\"It is not a palindrome\")\n",
    "\n"
   ]
  },
  {
   "cell_type": "code",
   "execution_count": 41,
   "id": "904638df-5d64-4546-9bde-ba65e61437ae",
   "metadata": {},
   "outputs": [
    {
     "data": {
      "text/plain": [
       "(1, 4, 9, 16, 25)"
      ]
     },
     "execution_count": 41,
     "metadata": {},
     "output_type": "execute_result"
    }
   ],
   "source": [
    "x=(1,2,3,4,5)\n",
    "y=0\n",
    "z=[]\n",
    "for i in x:\n",
    "    y=i*i\n",
    "    z.append(y)\n",
    "\n",
    "tuple(z)    "
   ]
  },
  {
   "cell_type": "code",
   "execution_count": 45,
   "id": "8b577894-dca4-43a3-ad2a-ea2488898dc7",
   "metadata": {},
   "outputs": [
    {
     "data": {
      "text/plain": [
       "(4, 6, 8, 12, 24, 10, 44, 20, 58)"
      ]
     },
     "execution_count": 45,
     "metadata": {},
     "output_type": "execute_result"
    }
   ],
   "source": [
    "x=(1, 5, 3, 4, 6, 7, 9, 8, 12, 24, 10, 11, 35, 44, 85, 65, 20, 58)\n",
    "y=[]\n",
    "for i in x:\n",
    "    if i%2==0:\n",
    "        y.append(i)\n",
    "tuple(y)\n",
    "        "
   ]
  },
  {
   "cell_type": "code",
   "execution_count": 50,
   "id": "a1d4fad8-2a3d-45e7-850c-9b9de4b1417f",
   "metadata": {},
   "outputs": [
    {
     "data": {
      "text/plain": [
       "(2, 4, 6, 8, 10)"
      ]
     },
     "execution_count": 50,
     "metadata": {},
     "output_type": "execute_result"
    }
   ],
   "source": [
    "x=(1,2,3,4,5)\n",
    "y=0\n",
    "z=[]\n",
    "for i in x:\n",
    "      y=i*2\n",
    "      z.append(y)\n",
    "tuple(z)"
   ]
  },
  {
   "cell_type": "code",
   "execution_count": 54,
   "id": "611f7daf-2fd1-453a-94eb-62cc4e6360c2",
   "metadata": {},
   "outputs": [
    {
     "name": "stdout",
     "output_type": "stream",
     "text": [
      "(1, 2, 3, 4, 5, 6, 7, 8, 9, 10, 11, 12, 13, 14, 15, 16, 17, 18, 19, 20, 21, 22, 23, 24, 25, 26, 27, 28, 29, 30, 31, 32, 33, 34, 35, 36, 37, 38, 39, 40, 41, 42, 43, 44, 45, 46, 47, 48, 49, 50)\n"
     ]
    }
   ],
   "source": [
    "x=[]\n",
    "for i in range(1,51):\n",
    "    x.append(i)\n",
    "print(tuple(x))"
   ]
  },
  {
   "cell_type": "code",
   "execution_count": 60,
   "id": "8031905c-7747-4395-b0e9-93b025a596d9",
   "metadata": {},
   "outputs": [
    {
     "name": "stdout",
     "output_type": "stream",
     "text": [
      "[1, 3, 4, 5, 6, 7, 8, 9, 10, 11, 12, 20, 24, 35, 44, 58, 65, 85]\n"
     ]
    }
   ],
   "source": [
    "x=(1, 5, 3, 4, 6, 7, 9, 8, 12, 24, 10, 11, 35, 44, 85, 65, 20, 58)\n",
    "y=list(x)\n",
    "y.sort()\n",
    "print(y)"
   ]
  },
  {
   "cell_type": "code",
   "execution_count": 2,
   "id": "0e35a711-7c92-4eb4-84af-62a278eaca75",
   "metadata": {},
   "outputs": [
    {
     "name": "stdout",
     "output_type": "stream",
     "text": [
      "(2, 6, 1, 7, 9, 8, 5, 4, 3)\n"
     ]
    }
   ],
   "source": [
    "x=(5,4,3,2,6,1,7,9,8)\n",
    "n=3\n",
    "y=x[n:] + x[:n]\n",
    "print(y)"
   ]
  },
  {
   "cell_type": "code",
   "execution_count": 4,
   "id": "d05d544e-c3f1-4811-bfe0-bf8c9d23830d",
   "metadata": {},
   "outputs": [
    {
     "name": "stdout",
     "output_type": "stream",
     "text": [
      "(7, 9, 8, 5, 4, 3, 2, 6, 1)\n"
     ]
    }
   ],
   "source": [
    "x=(5,4,3,2,6,1,7,9,8)\n",
    "n=-3\n",
    "y=x[n:] + x[:n]\n",
    "print(y)"
   ]
  },
  {
   "cell_type": "code",
   "execution_count": 15,
   "id": "a503757e-aafa-4d06-a32f-b0d585044b40",
   "metadata": {},
   "outputs": [
    {
     "name": "stdin",
     "output_type": "stream",
     "text": [
      "Create A tuple:  56759\n"
     ]
    },
    {
     "name": "stdout",
     "output_type": "stream",
     "text": [
      "('5', '6', '7', '5', '9')\n"
     ]
    }
   ],
   "source": [
    "x= input(\"Create A tuple: \")\n",
    "y=tuple(x)\n",
    "print(y)"
   ]
  },
  {
   "cell_type": "code",
   "execution_count": 16,
   "id": "64cbd8a2-3df8-45d1-a264-f76386557bec",
   "metadata": {},
   "outputs": [
    {
     "name": "stdout",
     "output_type": "stream",
     "text": [
      "(1, 3, 2, 4)\n"
     ]
    }
   ],
   "source": [
    "original_tuple = (1, 2, 3, 4)\n",
    "index1 = 1\n",
    "index2 = 2\n",
    "tuple_list = list(original_tuple)\n",
    "tuple_list[index1], tuple_list[index2] = tuple_list[index2], tuple_list[index1]\n",
    "swapped_tuple = tuple(tuple_list)\n",
    "print(swapped_tuple)"
   ]
  },
  {
   "cell_type": "code",
   "execution_count": 1,
   "id": "a04a5a20-bef3-45a2-b7c9-1125e838f638",
   "metadata": {},
   "outputs": [
    {
     "name": "stdout",
     "output_type": "stream",
     "text": [
      "(8, 9, 7, 1, 6, 2, 3, 4, 5)\n"
     ]
    }
   ],
   "source": [
    "x=(5,4,3,2,6,1,7,9,8)\n",
    "y=x[-1::-1]\n",
    "print(y)"
   ]
  },
  {
   "cell_type": "code",
   "execution_count": 24,
   "id": "78c78031-d323-4616-8c58-0f4c3f0ed65f",
   "metadata": {},
   "outputs": [
    {
     "name": "stdout",
     "output_type": "stream",
     "text": [
      "(2, 4, 8, 16, 32)\n"
     ]
    }
   ],
   "source": [
    "x=6\n",
    "z=[]\n",
    "for i in range(1,x):\n",
    "    y=2**i\n",
    "    z.append(y)\n",
    "print(tuple(z))"
   ]
  },
  {
   "cell_type": "code",
   "execution_count": 3,
   "id": "fd7e2f4c-b609-4cb0-86a9-5045afc144ce",
   "metadata": {},
   "outputs": [
    {
     "name": "stdout",
     "output_type": "stream",
     "text": [
      "University\n"
     ]
    }
   ],
   "source": [
    "x=(\"Anish\",\"Eeshika\",\"Jis\",\"University\")\n",
    "y=max(x)\n",
    "print(y)"
   ]
  },
  {
   "cell_type": "code",
   "execution_count": 4,
   "id": "b8c0fdb2-3e14-4c6c-b7d1-bf89e83843b7",
   "metadata": {},
   "outputs": [
    {
     "name": "stdout",
     "output_type": "stream",
     "text": [
      "Anish\n"
     ]
    }
   ],
   "source": [
    "x=(\"Anish\",\"Eeshika\",\"Jis\",\"University\")\n",
    "y=min(x)\n",
    "print(y)"
   ]
  },
  {
   "cell_type": "code",
   "execution_count": 6,
   "id": "0ecf8d33-5490-42ea-9e25-feebd30b603e",
   "metadata": {},
   "outputs": [
    {
     "name": "stdout",
     "output_type": "stream",
     "text": [
      "Subsequence\n"
     ]
    }
   ],
   "source": [
    "x=(5,6,7,2,8,9)\n",
    "y=(7)\n",
    "\n",
    "if y in x:\n",
    "    print(\"Subsequence\")\n",
    "else:\n",
    "    print(\"No Subsequence\")"
   ]
  },
  {
   "cell_type": "code",
   "execution_count": 9,
   "id": "7857bd21-de0f-4bb1-abb9-23799d0a30a8",
   "metadata": {},
   "outputs": [
    {
     "name": "stdout",
     "output_type": "stream",
     "text": [
      "(2, 1, 4, 5, 3, 6, 7, 8)\n"
     ]
    }
   ],
   "source": [
    "x=(1,2,4,5,3,6,7,8)\n",
    "y=list(x)\n",
    "y[0],y[1]=y[1],y[0]\n",
    "print(tuple(y))\n"
   ]
  },
  {
   "cell_type": "code",
   "execution_count": 10,
   "id": "f8255aca-dc42-44a8-9f67-3b5878944386",
   "metadata": {
    "tags": []
   },
   "outputs": [
    {
     "data": {
      "text/plain": [
       "{1, 2, 3, 4, 5}"
      ]
     },
     "execution_count": 10,
     "metadata": {},
     "output_type": "execute_result"
    }
   ],
   "source": [
    "x={1,2,3,4,5}\n",
    "x"
   ]
  },
  {
   "cell_type": "code",
   "execution_count": 11,
   "id": "d7ae22f5-e963-4573-8e1c-949e81b547c0",
   "metadata": {},
   "outputs": [
    {
     "data": {
      "text/plain": [
       "{1, 2, 3, 4, 5, 6}"
      ]
     },
     "execution_count": 11,
     "metadata": {},
     "output_type": "execute_result"
    }
   ],
   "source": [
    "x={1,2,3,4,5}\n",
    "x.add(6)\n",
    "x"
   ]
  },
  {
   "cell_type": "code",
   "execution_count": 12,
   "id": "b135a20b-b0fe-4a7c-b34a-b9721dc192e2",
   "metadata": {},
   "outputs": [
    {
     "data": {
      "text/plain": [
       "{1, 2, 3, 5}"
      ]
     },
     "execution_count": 12,
     "metadata": {},
     "output_type": "execute_result"
    }
   ],
   "source": [
    "x={1,2,3,4,5}\n",
    "x.remove(4)\n",
    "x"
   ]
  },
  {
   "cell_type": "code",
   "execution_count": 14,
   "id": "ca3cf451-fb93-484f-821f-4af9b608a93c",
   "metadata": {},
   "outputs": [
    {
     "name": "stdout",
     "output_type": "stream",
     "text": [
      "Exist\n"
     ]
    }
   ],
   "source": [
    "x={5,6,7,2,8,9}\n",
    "y=7\n",
    "\n",
    "if y in x:\n",
    "    print(\"Exist\")\n",
    "else:\n",
    "    print(\"No Exist\")"
   ]
  },
  {
   "cell_type": "code",
   "execution_count": 16,
   "id": "41cfae3e-6020-4420-9ba2-310766a157d5",
   "metadata": {},
   "outputs": [
    {
     "name": "stdout",
     "output_type": "stream",
     "text": [
      "6\n"
     ]
    }
   ],
   "source": [
    "x={5,6,7,2,8,9}\n",
    "y=0\n",
    "for i in x:\n",
    "    y=y+1\n",
    "print(y)\n",
    "    "
   ]
  },
  {
   "cell_type": "code",
   "execution_count": 23,
   "id": "9be595d8-8893-426e-891c-630911b7349b",
   "metadata": {},
   "outputs": [
    {
     "name": "stdout",
     "output_type": "stream",
     "text": [
      "set()\n"
     ]
    }
   ],
   "source": [
    "x={5,6,7,2,8,9}\n",
    "x.clear()\n",
    "print(x)"
   ]
  },
  {
   "cell_type": "code",
   "execution_count": 36,
   "id": "456b24fe-3582-463a-a0c1-654d885f5f75",
   "metadata": {},
   "outputs": [
    {
     "name": "stdout",
     "output_type": "stream",
     "text": [
      "{2, 4, 6, 8, 10}\n"
     ]
    }
   ],
   "source": [
    "x=0\n",
    "y=[]\n",
    "for i in range(1,11):\n",
    "    if i%2==0:\n",
    "        y.append(i)\n",
    "print(set(y))"
   ]
  },
  {
   "cell_type": "code",
   "execution_count": 37,
   "id": "f4449ec6-1cf0-43a1-97f7-c820eae1af1b",
   "metadata": {},
   "outputs": [
    {
     "name": "stdout",
     "output_type": "stream",
     "text": [
      "{1, 3, 5, 7, 9}\n"
     ]
    }
   ],
   "source": [
    "x=0\n",
    "y=[]\n",
    "for i in range(1,11):\n",
    "    if i%2!=0:\n",
    "        y.append(i)\n",
    "print(set(y))"
   ]
  },
  {
   "cell_type": "code",
   "execution_count": 38,
   "id": "14618f60-ab4d-4f1b-9205-b5f022b19ecf",
   "metadata": {},
   "outputs": [
    {
     "data": {
      "text/plain": [
       "{1, 2, 3, 4, 5, 6, 7, 8, 9, 10}"
      ]
     },
     "execution_count": 38,
     "metadata": {},
     "output_type": "execute_result"
    }
   ],
   "source": [
    "x={2, 4, 6, 8, 10}\n",
    "y={1, 3, 5, 7, 9}\n",
    "z=x.union(y)\n",
    "z"
   ]
  },
  {
   "cell_type": "code",
   "execution_count": 40,
   "id": "27304b5d-1e25-4bbc-a9f6-8c1c9a48a902",
   "metadata": {},
   "outputs": [
    {
     "data": {
      "text/plain": [
       "{3, 4, 6, 7}"
      ]
     },
     "execution_count": 40,
     "metadata": {},
     "output_type": "execute_result"
    }
   ],
   "source": [
    "x={4,5,7,8,1,6,3}\n",
    "y={4,6,10,7,3,42,11}\n",
    "z=x.intersection(y)\n",
    "z"
   ]
  },
  {
   "cell_type": "code",
   "execution_count": 41,
   "id": "39dbea6e-b98d-427a-89e6-adabbc42d09f",
   "metadata": {},
   "outputs": [
    {
     "data": {
      "text/plain": [
       "{1, 5, 8}"
      ]
     },
     "execution_count": 41,
     "metadata": {},
     "output_type": "execute_result"
    }
   ],
   "source": [
    "x={4,5,7,8,1,6,3}\n",
    "y={4,6,10,7,3,42,11}\n",
    "z=x.difference(y)\n",
    "z"
   ]
  },
  {
   "cell_type": "code",
   "execution_count": 43,
   "id": "cc8817b0-2308-4417-b400-b1a464744d0a",
   "metadata": {},
   "outputs": [
    {
     "name": "stdout",
     "output_type": "stream",
     "text": [
      "y is a subset of x.\n"
     ]
    }
   ],
   "source": [
    "x={4,5,7,8,1,6,3}\n",
    "y={1,5,8}\n",
    "z= y.issubset(x)\n",
    "if z:\n",
    "    print(\"y is a subset of x.\")\n",
    "else:\n",
    "    print(\"y is not a subset of x.\")\n"
   ]
  },
  {
   "cell_type": "code",
   "execution_count": 46,
   "id": "93312832-776e-43cb-b264-6650346445c4",
   "metadata": {},
   "outputs": [
    {
     "name": "stdout",
     "output_type": "stream",
     "text": [
      "y is a superset of x.\n"
     ]
    }
   ],
   "source": [
    "x={4,5,7,8,1,6,3}\n",
    "y={7,8}\n",
    "z= x.issuperset(y)\n",
    "if z:\n",
    "    print(\"x is a superset of y.\")\n",
    "else:\n",
    "    print(\"x is not a superset of y.\")\n"
   ]
  },
  {
   "cell_type": "code",
   "execution_count": 47,
   "id": "396d9c26-725a-46ea-a278-d33ac1ced35e",
   "metadata": {},
   "outputs": [
    {
     "name": "stdout",
     "output_type": "stream",
     "text": [
      "{1, 3, 4, 5, 6, 7, 8, 9}\n"
     ]
    }
   ],
   "source": [
    "x=[5,6,7,8,9,1,4,5,3]\n",
    "y=set(x)\n",
    "print(y)"
   ]
  },
  {
   "cell_type": "code",
   "execution_count": 48,
   "id": "05746c33-33d9-42c3-ae99-a66c2d5eb0d2",
   "metadata": {},
   "outputs": [
    {
     "name": "stdout",
     "output_type": "stream",
     "text": [
      "[1, 2, 4, 5, 6, 7, 8, 9]\n"
     ]
    }
   ],
   "source": [
    "x={4,5,6,7,1,2,8,9}\n",
    "y=list(x)\n",
    "print(y)"
   ]
  },
  {
   "cell_type": "code",
   "execution_count": 3,
   "id": "0ba228b6-a73b-48d1-b2b6-5dcb5bb33fce",
   "metadata": {},
   "outputs": [
    {
     "name": "stdout",
     "output_type": "stream",
     "text": [
      "Removed element: 1\n",
      "New Set: {2, 3, 4, 5}\n"
     ]
    }
   ],
   "source": [
    "x = {1, 2, 3, 4, 5}\n",
    "y = x.pop()\n",
    "\n",
    "print(\"Removed element:\", y)\n",
    "print(\"New Set:\", x)"
   ]
  },
  {
   "cell_type": "code",
   "execution_count": 4,
   "id": "29d3800e-c336-4d7f-906b-dfb8a22b57f2",
   "metadata": {},
   "outputs": [
    {
     "name": "stdout",
     "output_type": "stream",
     "text": [
      "{3, 4, 5, 8}\n"
     ]
    }
   ],
   "source": [
    "x = {8, 2, 3, 4, 5}\n",
    "Y = x.pop()\n",
    "print(x)"
   ]
  },
  {
   "cell_type": "code",
   "execution_count": 6,
   "id": "eca29584-eb1e-434a-bb27-e3566d0db3b5",
   "metadata": {},
   "outputs": [
    {
     "name": "stdout",
     "output_type": "stream",
     "text": [
      "There is no Common value\n"
     ]
    }
   ],
   "source": [
    "x={4,5,7,8,1,6,3}\n",
    "y={40,61,10,72,13,42,11}\n",
    "if x.intersection(y)== set():\n",
    "    print(\"There is no Common value\")\n",
    "else:\n",
    "    print(\"There is common value\")"
   ]
  },
  {
   "cell_type": "code",
   "execution_count": 7,
   "id": "5146e5c6-9581-4ea5-95ff-4f1a2d7f80c1",
   "metadata": {},
   "outputs": [
    {
     "name": "stdout",
     "output_type": "stream",
     "text": [
      "Symmetric Difference: {1, 2, 6, 7}\n"
     ]
    }
   ],
   "source": [
    "x = {1, 2, 3, 4, 5}\n",
    "y = {3, 4, 5, 6, 7}\n",
    "\n",
    "symmetric_diff = x.symmetric_difference(y)\n",
    "\n",
    "print(\"Symmetric Difference:\", symmetric_diff)"
   ]
  },
  {
   "cell_type": "code",
   "execution_count": 8,
   "id": "7a9fea8e-b73f-418e-8834-5bc3fda2bf6c",
   "metadata": {},
   "outputs": [
    {
     "name": "stdout",
     "output_type": "stream",
     "text": [
      "Updated set1: {1, 2, 3, 4, 5}\n"
     ]
    }
   ],
   "source": [
    "x = {1, 2, 3}\n",
    "y = {3, 4, 5}\n",
    "\n",
    "x.update(y)\n",
    "\n",
    "print(\"Updated set1:\", x)"
   ]
  },
  {
   "cell_type": "code",
   "execution_count": 10,
   "id": "167fa992-70ca-4b85-9803-793a11055a34",
   "metadata": {},
   "outputs": [
    {
     "name": "stdout",
     "output_type": "stream",
     "text": [
      "{2, 3, 5, 7, 9}\n"
     ]
    }
   ],
   "source": [
    "x={2,3,5,7,9}\n",
    "print(x)"
   ]
  },
  {
   "cell_type": "code",
   "execution_count": 11,
   "id": "2a6e2fa3-2317-43d7-8616-358731ae09b2",
   "metadata": {},
   "outputs": [
    {
     "name": "stdout",
     "output_type": "stream",
     "text": [
      "The sets are identical.\n"
     ]
    }
   ],
   "source": [
    "x = {1, 2, 3}\n",
    "y = {3, 2, 1}\n",
    "\n",
    "if x == y:\n",
    "    print(\"The sets are identical.\")\n",
    "else:\n",
    "    print(\"The sets are not identical.\")"
   ]
  },
  {
   "cell_type": "code",
   "execution_count": 12,
   "id": "b03c731c-05a7-4711-a3c8-85edeaa66d48",
   "metadata": {},
   "outputs": [
    {
     "name": "stdout",
     "output_type": "stream",
     "text": [
      "frozenset({1, 2, 3, 4, 5})\n"
     ]
    }
   ],
   "source": [
    "x = {1, 2, 3, 4, 5}\n",
    "y = frozenset(x)\n",
    "print(y)"
   ]
  },
  {
   "cell_type": "code",
   "execution_count": 16,
   "id": "7a95cc1d-25fd-43e6-90f8-829b52e5177f",
   "metadata": {},
   "outputs": [
    {
     "name": "stdout",
     "output_type": "stream",
     "text": [
      "The sets are disjoint.\n"
     ]
    }
   ],
   "source": [
    "x = {1, 2, 3}\n",
    "y = {4, 5, 6}\n",
    "\n",
    "if x.isdisjoint(y):\n",
    "    print(\"The sets are disjoint.\")\n",
    "else:\n",
    "    print(\"The sets are not disjoint.\")"
   ]
  },
  {
   "cell_type": "code",
   "execution_count": 1,
   "id": "2a27ff65-34e4-4a64-a1d5-341111c1af42",
   "metadata": {},
   "outputs": [
    {
     "name": "stdout",
     "output_type": "stream",
     "text": [
      "{1, 4, 9, 16, 25}\n"
     ]
    }
   ],
   "source": [
    "x=0\n",
    "y=[]\n",
    "for i in range(1,6):\n",
    "    x=i**2\n",
    "    y.append(x)\n",
    "print(set(y))"
   ]
  },
  {
   "cell_type": "code",
   "execution_count": 5,
   "id": "1815ee09-0b16-492a-9591-571eea5d9553",
   "metadata": {},
   "outputs": [
    {
     "name": "stdout",
     "output_type": "stream",
     "text": [
      "{4, 8, 10, 44, 14, 22, 56}\n"
     ]
    }
   ],
   "source": [
    "x={5,4,8,7,9,10,22,14,15,45,44,56}\n",
    "y=[]\n",
    "for i in x:\n",
    "    if i%2==0:\n",
    "        y.append(i)\n",
    "print(set(y))\n",
    "        "
   ]
  },
  {
   "cell_type": "code",
   "execution_count": 8,
   "id": "e2f40470-daa3-453f-911a-47b27bbcc773",
   "metadata": {},
   "outputs": [
    {
     "name": "stdout",
     "output_type": "stream",
     "text": [
      "{2, 6, 10, 12, 14}\n"
     ]
    }
   ],
   "source": [
    "x = {1, 6, 3, 7, 5}\n",
    "y=0\n",
    "z=[]\n",
    "for i in x:\n",
    "    y=i*2\n",
    "    z.append(y)\n",
    "print(set(z))\n",
    "   \n",
    "    \n",
    "    "
   ]
  },
  {
   "cell_type": "code",
   "execution_count": 10,
   "id": "c3fcf117-5ceb-4535-8ac3-4227e030734a",
   "metadata": {},
   "outputs": [
    {
     "name": "stdout",
     "output_type": "stream",
     "text": [
      "The Set Is Empity\n"
     ]
    }
   ],
   "source": [
    "x={}\n",
    "if len(x)==0:\n",
    "    print(\"The Set Is Empity\")\n",
    "else:\n",
    "    print(\"The Set Is not Empity\")"
   ]
  },
  {
   "cell_type": "code",
   "execution_count": 16,
   "id": "d802036f-eeb3-42bb-8a79-249590a51972",
   "metadata": {},
   "outputs": [
    {
     "ename": "AttributeError",
     "evalue": "'frozenset' object has no attribute 'append'",
     "output_type": "error",
     "traceback": [
      "\u001b[0;31m---------------------------------------------------------------------------\u001b[0m",
      "\u001b[0;31mAttributeError\u001b[0m                            Traceback (most recent call last)",
      "Cell \u001b[0;32mIn[16], line 7\u001b[0m\n\u001b[1;32m      5\u001b[0m y1\u001b[38;5;241m=\u001b[39m\u001b[38;5;28mfrozenset\u001b[39m(y)\n\u001b[1;32m      6\u001b[0m z1\u001b[38;5;241m=\u001b[39m\u001b[38;5;28mfrozenset\u001b[39m(z)\n\u001b[0;32m----> 7\u001b[0m X2\u001b[38;5;241m=\u001b[39m\u001b[43mx1\u001b[49m\u001b[38;5;241;43m.\u001b[39;49m\u001b[43mappend\u001b[49m(y1)\n\u001b[1;32m      8\u001b[0m X2\n",
      "\u001b[0;31mAttributeError\u001b[0m: 'frozenset' object has no attribute 'append'"
     ]
    }
   ],
   "source": [
    "x={2,5,6}\n",
    "y={6,8,1}\n",
    "z={10,13,11}\n",
    "x1=frozenset(x)\n",
    "y1=frozenset(y)\n",
    "z1=frozenset(z)\n",
    "\n",
    "X2"
   ]
  },
  {
   "cell_type": "code",
   "execution_count": 17,
   "id": "913d1411-acfb-4947-bf1d-7e7c8789877d",
   "metadata": {},
   "outputs": [
    {
     "name": "stdout",
     "output_type": "stream",
     "text": [
      "Updated set: {1, 2, 4, 5}\n"
     ]
    }
   ],
   "source": [
    "x= {1, 2, 3, 4, 5}\n",
    "x.discard(3)\n",
    "\n",
    "print(\"Updated set:\", x)"
   ]
  },
  {
   "cell_type": "code",
   "execution_count": 18,
   "id": "ac42fa51-b1f4-4793-b419-6829b7ef72b9",
   "metadata": {},
   "outputs": [
    {
     "name": "stdout",
     "output_type": "stream",
     "text": [
      "The sets are equal.\n"
     ]
    }
   ],
   "source": [
    "x = {1, 2, 3}\n",
    "y = {3, 2, 1}\n",
    "\n",
    "if x == y:\n",
    "    print(\"The sets are equal.\")\n",
    "else:\n",
    "    print(\"The sets are not equal.\")"
   ]
  },
  {
   "cell_type": "code",
   "execution_count": 2,
   "id": "6510894e-ecfa-4807-af36-6e13ce78f07e",
   "metadata": {},
   "outputs": [
    {
     "name": "stdout",
     "output_type": "stream",
     "text": [
      "Set from string: {'i', 'n', 'h', 'A', 's'}\n"
     ]
    }
   ],
   "source": [
    "x = \"Anish\"\n",
    "y = set(x)\n",
    "\n",
    "print(\"Set from string:\",y)"
   ]
  },
  {
   "cell_type": "code",
   "execution_count": 11,
   "id": "0573c600-1355-467e-bb99-61bc905cf535",
   "metadata": {},
   "outputs": [
    {
     "name": "stdout",
     "output_type": "stream",
     "text": [
      "{4, 5, 6, 7, 9}\n"
     ]
    }
   ],
   "source": [
    "x={\"5\",\"4\",\"6\",\"7\",\"9\"}\n",
    "y = set(map(int,x))\n",
    "print(y)"
   ]
  },
  {
   "cell_type": "code",
   "execution_count": 12,
   "id": "13468bd6-e914-4e31-982d-8cb92adfadec",
   "metadata": {},
   "outputs": [
    {
     "name": "stdout",
     "output_type": "stream",
     "text": [
      "{'6', '4', '9', '7', '5'}\n"
     ]
    }
   ],
   "source": [
    "x={4, 5, 6, 7, 9}\n",
    "y = set(map(str,x))\n",
    "print(y)"
   ]
  },
  {
   "cell_type": "code",
   "execution_count": 14,
   "id": "7371d503-804e-4362-8d63-e06a6c25f8b5",
   "metadata": {},
   "outputs": [
    {
     "data": {
      "text/plain": [
       "{1, 2, 4, 5, 6, 8}"
      ]
     },
     "execution_count": 14,
     "metadata": {},
     "output_type": "execute_result"
    }
   ],
   "source": [
    "a=(1,5,6,4,8,2)\n",
    "b=set(a)\n",
    "b\n"
   ]
  },
  {
   "cell_type": "code",
   "execution_count": 19,
   "id": "4963bb2a-017b-4982-a039-020cd40ba12b",
   "metadata": {},
   "outputs": [
    {
     "data": {
      "text/plain": [
       "(1, 2, 4, 5, 6, 8)"
      ]
     },
     "execution_count": 19,
     "metadata": {},
     "output_type": "execute_result"
    }
   ],
   "source": [
    "a={1,5,6,4,8,2}\n",
    "b=tuple(a)\n",
    "b"
   ]
  },
  {
   "cell_type": "code",
   "execution_count": 17,
   "id": "9d36353a-7af7-46ec-9144-45d801338e92",
   "metadata": {},
   "outputs": [
    {
     "data": {
      "text/plain": [
       "8"
      ]
     },
     "execution_count": 17,
     "metadata": {},
     "output_type": "execute_result"
    }
   ],
   "source": [
    "a={1,5,6,4,8,2}\n",
    "b=max(a)\n",
    "b"
   ]
  },
  {
   "cell_type": "code",
   "execution_count": 18,
   "id": "109b8f2d-f6c7-4ef5-99a0-7507eef1b2e4",
   "metadata": {},
   "outputs": [
    {
     "data": {
      "text/plain": [
       "1"
      ]
     },
     "execution_count": 18,
     "metadata": {},
     "output_type": "execute_result"
    }
   ],
   "source": [
    "a={1,5,6,4,8,2}\n",
    "b=min(a)\n",
    "b"
   ]
  },
  {
   "cell_type": "code",
   "execution_count": 24,
   "id": "ad23ed38-ad41-457e-8fdf-888d19c183dc",
   "metadata": {},
   "outputs": [
    {
     "name": "stdin",
     "output_type": "stream",
     "text": [
      "Enter A Set: 4,5\n"
     ]
    },
    {
     "name": "stdout",
     "output_type": "stream",
     "text": [
      "{'4', '5'}\n"
     ]
    }
   ],
   "source": [
    "y=input(\"Enter A Set:\")\n",
    "z = y.split(',')\n",
    "x=set(z)\n",
    "print(x)\n"
   ]
  },
  {
   "cell_type": "code",
   "execution_count": 26,
   "id": "ff1cb495-7f56-4184-9339-caf53933890b",
   "metadata": {},
   "outputs": [
    {
     "name": "stdout",
     "output_type": "stream",
     "text": [
      "The intersection of two set is empity\n"
     ]
    }
   ],
   "source": [
    "x={4,5,7,8}\n",
    "y={1,3,2,6}\n",
    "z=x.intersection(y)\n",
    "if len(z)==0:\n",
    "    print(\"The intersection of two set is empity\")\n",
    "else:\n",
    "    print(\"The intersection of two set is not empity\")"
   ]
  },
  {
   "cell_type": "code",
   "execution_count": 29,
   "id": "bbea63c5-2f8c-40e2-a304-46142e6b37fd",
   "metadata": {},
   "outputs": [
    {
     "name": "stdout",
     "output_type": "stream",
     "text": [
      "{0, 1, 2, 3, 5}\n"
     ]
    }
   ],
   "source": [
    "n=6\n",
    "a=0\n",
    "b=1\n",
    "x=[]\n",
    "if n==1:\n",
    "    print(a)\n",
    "else :\n",
    "    x.append(a)\n",
    "    x.append(b)\n",
    "    for i in range (2,n):\n",
    "        c=a+b\n",
    "        a=b\n",
    "        b=c\n",
    "        x.append(c)   \n",
    "print(set(x))"
   ]
  },
  {
   "cell_type": "code",
   "execution_count": 30,
   "id": "94e25fb2-f496-4cff-b96d-fb40cce6bcdb",
   "metadata": {},
   "outputs": [
    {
     "name": "stdout",
     "output_type": "stream",
     "text": [
      "{1, 2, 3, 5, 6, 7, 8}\n"
     ]
    }
   ],
   "source": [
    "x=[5,6,7,5,7,8,2,1,3,6,3]\n",
    "print(set(x))"
   ]
  },
  {
   "cell_type": "code",
   "execution_count": 33,
   "id": "3de27f13-37af-459e-8c42-4add65708f22",
   "metadata": {},
   "outputs": [
    {
     "data": {
      "text/plain": [
       "3"
      ]
     },
     "execution_count": 33,
     "metadata": {},
     "output_type": "execute_result"
    }
   ],
   "source": [
    "x={2, 4, 6, 8, 10}\n",
    "y={2, 3, 5, 7, 9,6,10}\n",
    "z=x.intersection(y)\n",
    "x1=len(z)\n",
    "x1\n"
   ]
  },
  {
   "cell_type": "code",
   "execution_count": 35,
   "id": "ff90db8b-4edd-42e6-b335-f681bb2c5c0f",
   "metadata": {},
   "outputs": [
    {
     "name": "stdout",
     "output_type": "stream",
     "text": [
      "{1, 4, 9, 36}\n"
     ]
    }
   ],
   "source": [
    "x={1,3,2,6}\n",
    "y=0\n",
    "z=[]\n",
    "for i in x:\n",
    "    y=i**2\n",
    "    z.append(y)\n",
    "print(set(z))\n",
    "    "
   ]
  },
  {
   "cell_type": "code",
   "execution_count": 36,
   "id": "61a8a8c8-2e7d-4924-bf24-571baa105ee8",
   "metadata": {},
   "outputs": [
    {
     "name": "stdout",
     "output_type": "stream",
     "text": [
      "{2, 10, 6}\n"
     ]
    }
   ],
   "source": [
    "x={2, 4, 6, 8, 10}\n",
    "y=[2, 3, 5, 7, 9,6,10]\n",
    "z=set(y)\n",
    "z1=x.intersection(z)\n",
    "print(z1)"
   ]
  },
  {
   "cell_type": "code",
   "execution_count": 37,
   "id": "479e6676-9f0a-439b-9d16-c04d27559af3",
   "metadata": {},
   "outputs": [
    {
     "name": "stdout",
     "output_type": "stream",
     "text": [
      "set2 is a subset of set1\n",
      "set2 is a subset of set1\n"
     ]
    }
   ],
   "source": [
    "# Define two sets\n",
    "set1 = {1, 2, 3, 4, 5}\n",
    "set2 = {2, 3}\n",
    "x = set2.issubset(set1)\n",
    "y = set2 <= set1\n",
    "if x:\n",
    "    print(\"set2 is a subset of set1\")\n",
    "\n",
    "if y:\n",
    "    print(\"set2 is a subset of set1\")\n"
   ]
  },
  {
   "cell_type": "code",
   "execution_count": 38,
   "id": "30012e95-fd20-429d-b8f5-555ff7037533",
   "metadata": {},
   "outputs": [
    {
     "name": "stdout",
     "output_type": "stream",
     "text": [
      "{1, 2, 3, 4, 5, 6, 7}\n"
     ]
    }
   ],
   "source": [
    "# Define multiple sets\n",
    "set1 = {1, 2, 3}\n",
    "set2 = {3, 4, 5}\n",
    "set3 = {5, 6, 7}\n",
    "merged_set = set1.union(set2, set3)\n",
    "print(merged_set)\n"
   ]
  },
  {
   "cell_type": "code",
   "execution_count": null,
   "id": "bc663324-7e37-4239-a2e1-0c0a7aff69a1",
   "metadata": {},
   "outputs": [],
   "source": []
  }
 ],
 "metadata": {
  "kernelspec": {
   "display_name": "Python 3 (ipykernel)",
   "language": "python",
   "name": "python3"
  },
  "language_info": {
   "codemirror_mode": {
    "name": "ipython",
    "version": 3
   },
   "file_extension": ".py",
   "mimetype": "text/x-python",
   "name": "python",
   "nbconvert_exporter": "python",
   "pygments_lexer": "ipython3",
   "version": "3.10.8"
  }
 },
 "nbformat": 4,
 "nbformat_minor": 5
}
